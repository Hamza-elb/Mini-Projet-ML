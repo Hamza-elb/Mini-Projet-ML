{
 "cells": [
  {
   "cell_type": "code",
   "execution_count": 76,
   "outputs": [],
   "source": [
    "import numpy as np\n",
    "import pandas as pd\n",
    "import matplotlib.pyplot as plt\n",
    "from sklearn.model_selection import train_test_split\n",
    "from sklearn.linear_model import LinearRegression \n",
    "from sklearn.linear_model import Lasso\n"
   ],
   "metadata": {
    "collapsed": false,
    "pycharm": {
     "name": "#%%\n"
    }
   }
  },
  {
   "cell_type": "code",
   "execution_count": 77,
   "outputs": [
    {
     "data": {
      "text/plain": "   gender parents visit parental level of education   restoration  \\\n0  female       group B           bachelor's degree      standard   \n1  female       group C                some college      standard   \n2  female       group B             master's degree      standard   \n3    male       group A          associate's degree  free/reduced   \n4    male       group C                some college      standard   \n\n  test preparation course  score math  reading score  score bac  \n0                    none          72             72         74  \n1               completed          69             90         88  \n2                    none          90             95         93  \n3                    none          47             57         44  \n4                    none          76             78         75  ",
      "text/html": "<div>\n<style scoped>\n    .dataframe tbody tr th:only-of-type {\n        vertical-align: middle;\n    }\n\n    .dataframe tbody tr th {\n        vertical-align: top;\n    }\n\n    .dataframe thead th {\n        text-align: right;\n    }\n</style>\n<table border=\"1\" class=\"dataframe\">\n  <thead>\n    <tr style=\"text-align: right;\">\n      <th></th>\n      <th>gender</th>\n      <th>parents visit</th>\n      <th>parental level of education</th>\n      <th>restoration</th>\n      <th>test preparation course</th>\n      <th>score math</th>\n      <th>reading score</th>\n      <th>score bac</th>\n    </tr>\n  </thead>\n  <tbody>\n    <tr>\n      <th>0</th>\n      <td>female</td>\n      <td>group B</td>\n      <td>bachelor's degree</td>\n      <td>standard</td>\n      <td>none</td>\n      <td>72</td>\n      <td>72</td>\n      <td>74</td>\n    </tr>\n    <tr>\n      <th>1</th>\n      <td>female</td>\n      <td>group C</td>\n      <td>some college</td>\n      <td>standard</td>\n      <td>completed</td>\n      <td>69</td>\n      <td>90</td>\n      <td>88</td>\n    </tr>\n    <tr>\n      <th>2</th>\n      <td>female</td>\n      <td>group B</td>\n      <td>master's degree</td>\n      <td>standard</td>\n      <td>none</td>\n      <td>90</td>\n      <td>95</td>\n      <td>93</td>\n    </tr>\n    <tr>\n      <th>3</th>\n      <td>male</td>\n      <td>group A</td>\n      <td>associate's degree</td>\n      <td>free/reduced</td>\n      <td>none</td>\n      <td>47</td>\n      <td>57</td>\n      <td>44</td>\n    </tr>\n    <tr>\n      <th>4</th>\n      <td>male</td>\n      <td>group C</td>\n      <td>some college</td>\n      <td>standard</td>\n      <td>none</td>\n      <td>76</td>\n      <td>78</td>\n      <td>75</td>\n    </tr>\n  </tbody>\n</table>\n</div>"
     },
     "execution_count": 77,
     "metadata": {},
     "output_type": "execute_result"
    }
   ],
   "source": [
    "Data = pd.read_csv('P.csv')\n",
    "Data.head()"
   ],
   "metadata": {
    "collapsed": false,
    "pycharm": {
     "name": "#%%\n"
    }
   }
  },
  {
   "cell_type": "code",
   "execution_count": 78,
   "outputs": [],
   "source": [
    "Data = Data.dropna()"
   ],
   "metadata": {
    "collapsed": false,
    "pycharm": {
     "name": "#%%\n"
    }
   }
  },
  {
   "cell_type": "code",
   "execution_count": 78,
   "outputs": [],
   "source": [],
   "metadata": {
    "collapsed": false,
    "pycharm": {
     "name": "#%%\n"
    }
   }
  },
  {
   "cell_type": "code",
   "execution_count": 78,
   "outputs": [],
   "source": [],
   "metadata": {
    "collapsed": false,
    "pycharm": {
     "name": "#%%\n"
    }
   }
  },
  {
   "cell_type": "code",
   "execution_count": 78,
   "outputs": [],
   "source": [],
   "metadata": {
    "collapsed": false,
    "pycharm": {
     "name": "#%%\n"
    }
   }
  },
  {
   "cell_type": "code",
   "execution_count": 79,
   "outputs": [
    {
     "data": {
      "text/plain": "     gender parents visit parental level of education   restoration  \\\n0    female       group B           bachelor's degree      standard   \n1    female       group C                some college      standard   \n2    female       group B             master's degree      standard   \n3      male       group A          associate's degree  free/reduced   \n4      male       group C                some college      standard   \n..      ...           ...                         ...           ...   \n964    male       group A                 high school      standard   \n965    male       group C                 high school  free/reduced   \n966  female       group C                 high school  free/reduced   \n967  female       group D                some college      standard   \n968  female       group D                some college  free/reduced   \n\n    test preparation course  score math  reading score  score bac  \n0                      none          72             72         74  \n1                 completed          69             90         88  \n2                      none          90             95         93  \n3                      none          47             57         44  \n4                      none          76             78         75  \n..                      ...         ...            ...        ...  \n964                    none          63             63         62  \n965                    none          62             55         55  \n966               completed          59             71         65  \n967               completed          68             78         77  \n968                    none          77             86         86  \n\n[969 rows x 8 columns]",
      "text/html": "<div>\n<style scoped>\n    .dataframe tbody tr th:only-of-type {\n        vertical-align: middle;\n    }\n\n    .dataframe tbody tr th {\n        vertical-align: top;\n    }\n\n    .dataframe thead th {\n        text-align: right;\n    }\n</style>\n<table border=\"1\" class=\"dataframe\">\n  <thead>\n    <tr style=\"text-align: right;\">\n      <th></th>\n      <th>gender</th>\n      <th>parents visit</th>\n      <th>parental level of education</th>\n      <th>restoration</th>\n      <th>test preparation course</th>\n      <th>score math</th>\n      <th>reading score</th>\n      <th>score bac</th>\n    </tr>\n  </thead>\n  <tbody>\n    <tr>\n      <th>0</th>\n      <td>female</td>\n      <td>group B</td>\n      <td>bachelor's degree</td>\n      <td>standard</td>\n      <td>none</td>\n      <td>72</td>\n      <td>72</td>\n      <td>74</td>\n    </tr>\n    <tr>\n      <th>1</th>\n      <td>female</td>\n      <td>group C</td>\n      <td>some college</td>\n      <td>standard</td>\n      <td>completed</td>\n      <td>69</td>\n      <td>90</td>\n      <td>88</td>\n    </tr>\n    <tr>\n      <th>2</th>\n      <td>female</td>\n      <td>group B</td>\n      <td>master's degree</td>\n      <td>standard</td>\n      <td>none</td>\n      <td>90</td>\n      <td>95</td>\n      <td>93</td>\n    </tr>\n    <tr>\n      <th>3</th>\n      <td>male</td>\n      <td>group A</td>\n      <td>associate's degree</td>\n      <td>free/reduced</td>\n      <td>none</td>\n      <td>47</td>\n      <td>57</td>\n      <td>44</td>\n    </tr>\n    <tr>\n      <th>4</th>\n      <td>male</td>\n      <td>group C</td>\n      <td>some college</td>\n      <td>standard</td>\n      <td>none</td>\n      <td>76</td>\n      <td>78</td>\n      <td>75</td>\n    </tr>\n    <tr>\n      <th>...</th>\n      <td>...</td>\n      <td>...</td>\n      <td>...</td>\n      <td>...</td>\n      <td>...</td>\n      <td>...</td>\n      <td>...</td>\n      <td>...</td>\n    </tr>\n    <tr>\n      <th>964</th>\n      <td>male</td>\n      <td>group A</td>\n      <td>high school</td>\n      <td>standard</td>\n      <td>none</td>\n      <td>63</td>\n      <td>63</td>\n      <td>62</td>\n    </tr>\n    <tr>\n      <th>965</th>\n      <td>male</td>\n      <td>group C</td>\n      <td>high school</td>\n      <td>free/reduced</td>\n      <td>none</td>\n      <td>62</td>\n      <td>55</td>\n      <td>55</td>\n    </tr>\n    <tr>\n      <th>966</th>\n      <td>female</td>\n      <td>group C</td>\n      <td>high school</td>\n      <td>free/reduced</td>\n      <td>completed</td>\n      <td>59</td>\n      <td>71</td>\n      <td>65</td>\n    </tr>\n    <tr>\n      <th>967</th>\n      <td>female</td>\n      <td>group D</td>\n      <td>some college</td>\n      <td>standard</td>\n      <td>completed</td>\n      <td>68</td>\n      <td>78</td>\n      <td>77</td>\n    </tr>\n    <tr>\n      <th>968</th>\n      <td>female</td>\n      <td>group D</td>\n      <td>some college</td>\n      <td>free/reduced</td>\n      <td>none</td>\n      <td>77</td>\n      <td>86</td>\n      <td>86</td>\n    </tr>\n  </tbody>\n</table>\n<p>969 rows × 8 columns</p>\n</div>"
     },
     "execution_count": 79,
     "metadata": {},
     "output_type": "execute_result"
    }
   ],
   "source": [
    "Data"
   ],
   "metadata": {
    "collapsed": false,
    "pycharm": {
     "name": "#%%\n"
    }
   }
  },
  {
   "cell_type": "code",
   "execution_count": 80,
   "outputs": [
    {
     "data": {
      "text/plain": "     gender parental level of education   restoration test preparation course  \\\n0    female           bachelor's degree      standard                    none   \n1    female                some college      standard               completed   \n2    female             master's degree      standard                    none   \n3      male          associate's degree  free/reduced                    none   \n4      male                some college      standard                    none   \n..      ...                         ...           ...                     ...   \n964    male                 high school      standard                    none   \n965    male                 high school  free/reduced                    none   \n966  female                 high school  free/reduced               completed   \n967  female                some college      standard               completed   \n968  female                some college  free/reduced                    none   \n\n     score math  score bac  \n0            72         74  \n1            69         88  \n2            90         93  \n3            47         44  \n4            76         75  \n..          ...        ...  \n964          63         62  \n965          62         55  \n966          59         65  \n967          68         77  \n968          77         86  \n\n[969 rows x 6 columns]",
      "text/html": "<div>\n<style scoped>\n    .dataframe tbody tr th:only-of-type {\n        vertical-align: middle;\n    }\n\n    .dataframe tbody tr th {\n        vertical-align: top;\n    }\n\n    .dataframe thead th {\n        text-align: right;\n    }\n</style>\n<table border=\"1\" class=\"dataframe\">\n  <thead>\n    <tr style=\"text-align: right;\">\n      <th></th>\n      <th>gender</th>\n      <th>parental level of education</th>\n      <th>restoration</th>\n      <th>test preparation course</th>\n      <th>score math</th>\n      <th>score bac</th>\n    </tr>\n  </thead>\n  <tbody>\n    <tr>\n      <th>0</th>\n      <td>female</td>\n      <td>bachelor's degree</td>\n      <td>standard</td>\n      <td>none</td>\n      <td>72</td>\n      <td>74</td>\n    </tr>\n    <tr>\n      <th>1</th>\n      <td>female</td>\n      <td>some college</td>\n      <td>standard</td>\n      <td>completed</td>\n      <td>69</td>\n      <td>88</td>\n    </tr>\n    <tr>\n      <th>2</th>\n      <td>female</td>\n      <td>master's degree</td>\n      <td>standard</td>\n      <td>none</td>\n      <td>90</td>\n      <td>93</td>\n    </tr>\n    <tr>\n      <th>3</th>\n      <td>male</td>\n      <td>associate's degree</td>\n      <td>free/reduced</td>\n      <td>none</td>\n      <td>47</td>\n      <td>44</td>\n    </tr>\n    <tr>\n      <th>4</th>\n      <td>male</td>\n      <td>some college</td>\n      <td>standard</td>\n      <td>none</td>\n      <td>76</td>\n      <td>75</td>\n    </tr>\n    <tr>\n      <th>...</th>\n      <td>...</td>\n      <td>...</td>\n      <td>...</td>\n      <td>...</td>\n      <td>...</td>\n      <td>...</td>\n    </tr>\n    <tr>\n      <th>964</th>\n      <td>male</td>\n      <td>high school</td>\n      <td>standard</td>\n      <td>none</td>\n      <td>63</td>\n      <td>62</td>\n    </tr>\n    <tr>\n      <th>965</th>\n      <td>male</td>\n      <td>high school</td>\n      <td>free/reduced</td>\n      <td>none</td>\n      <td>62</td>\n      <td>55</td>\n    </tr>\n    <tr>\n      <th>966</th>\n      <td>female</td>\n      <td>high school</td>\n      <td>free/reduced</td>\n      <td>completed</td>\n      <td>59</td>\n      <td>65</td>\n    </tr>\n    <tr>\n      <th>967</th>\n      <td>female</td>\n      <td>some college</td>\n      <td>standard</td>\n      <td>completed</td>\n      <td>68</td>\n      <td>77</td>\n    </tr>\n    <tr>\n      <th>968</th>\n      <td>female</td>\n      <td>some college</td>\n      <td>free/reduced</td>\n      <td>none</td>\n      <td>77</td>\n      <td>86</td>\n    </tr>\n  </tbody>\n</table>\n<p>969 rows × 6 columns</p>\n</div>"
     },
     "execution_count": 80,
     "metadata": {},
     "output_type": "execute_result"
    }
   ],
   "source": [
    "Data.drop(['reading score','parents visit'],  axis=1, inplace=True)\n",
    "Data"
   ],
   "metadata": {
    "collapsed": false,
    "pycharm": {
     "name": "#%%\n"
    }
   }
  },
  {
   "cell_type": "code",
   "execution_count": 81,
   "outputs": [
    {
     "name": "stdout",
     "output_type": "stream",
     "text": [
      "Index(['gender', 'parental_level', 'restoration', 'test_preparation',\n",
      "       'score_math', 'score_bac'],\n",
      "      dtype='object')\n"
     ]
    }
   ],
   "source": [
    "Data.columns = [each.split()[0] + \"_\" + each.split()[1] if (len(each.split()) > 1) else each for each in Data.columns ]\n",
    "print(Data.columns)"
   ],
   "metadata": {
    "collapsed": false,
    "pycharm": {
     "name": "#%%\n"
    }
   }
  },
  {
   "cell_type": "code",
   "execution_count": 82,
   "outputs": [
    {
     "data": {
      "text/plain": "     gender      parental_level   restoration test_preparation  score_math  \\\n0    female   bachelor's degree      standard             none          72   \n1    female        some college      standard        completed          69   \n2    female     master's degree      standard             none          90   \n3      male  associate's degree  free/reduced             none          47   \n4      male        some college      standard             none          76   \n..      ...                 ...           ...              ...         ...   \n964    male         high school      standard             none          63   \n965    male         high school  free/reduced             none          62   \n966  female         high school  free/reduced        completed          59   \n967  female        some college      standard        completed          68   \n968  female        some college  free/reduced             none          77   \n\n     score_bac  \n0           74  \n1           88  \n2           93  \n3           44  \n4           75  \n..         ...  \n964         62  \n965         55  \n966         65  \n967         77  \n968         86  \n\n[969 rows x 6 columns]",
      "text/html": "<div>\n<style scoped>\n    .dataframe tbody tr th:only-of-type {\n        vertical-align: middle;\n    }\n\n    .dataframe tbody tr th {\n        vertical-align: top;\n    }\n\n    .dataframe thead th {\n        text-align: right;\n    }\n</style>\n<table border=\"1\" class=\"dataframe\">\n  <thead>\n    <tr style=\"text-align: right;\">\n      <th></th>\n      <th>gender</th>\n      <th>parental_level</th>\n      <th>restoration</th>\n      <th>test_preparation</th>\n      <th>score_math</th>\n      <th>score_bac</th>\n    </tr>\n  </thead>\n  <tbody>\n    <tr>\n      <th>0</th>\n      <td>female</td>\n      <td>bachelor's degree</td>\n      <td>standard</td>\n      <td>none</td>\n      <td>72</td>\n      <td>74</td>\n    </tr>\n    <tr>\n      <th>1</th>\n      <td>female</td>\n      <td>some college</td>\n      <td>standard</td>\n      <td>completed</td>\n      <td>69</td>\n      <td>88</td>\n    </tr>\n    <tr>\n      <th>2</th>\n      <td>female</td>\n      <td>master's degree</td>\n      <td>standard</td>\n      <td>none</td>\n      <td>90</td>\n      <td>93</td>\n    </tr>\n    <tr>\n      <th>3</th>\n      <td>male</td>\n      <td>associate's degree</td>\n      <td>free/reduced</td>\n      <td>none</td>\n      <td>47</td>\n      <td>44</td>\n    </tr>\n    <tr>\n      <th>4</th>\n      <td>male</td>\n      <td>some college</td>\n      <td>standard</td>\n      <td>none</td>\n      <td>76</td>\n      <td>75</td>\n    </tr>\n    <tr>\n      <th>...</th>\n      <td>...</td>\n      <td>...</td>\n      <td>...</td>\n      <td>...</td>\n      <td>...</td>\n      <td>...</td>\n    </tr>\n    <tr>\n      <th>964</th>\n      <td>male</td>\n      <td>high school</td>\n      <td>standard</td>\n      <td>none</td>\n      <td>63</td>\n      <td>62</td>\n    </tr>\n    <tr>\n      <th>965</th>\n      <td>male</td>\n      <td>high school</td>\n      <td>free/reduced</td>\n      <td>none</td>\n      <td>62</td>\n      <td>55</td>\n    </tr>\n    <tr>\n      <th>966</th>\n      <td>female</td>\n      <td>high school</td>\n      <td>free/reduced</td>\n      <td>completed</td>\n      <td>59</td>\n      <td>65</td>\n    </tr>\n    <tr>\n      <th>967</th>\n      <td>female</td>\n      <td>some college</td>\n      <td>standard</td>\n      <td>completed</td>\n      <td>68</td>\n      <td>77</td>\n    </tr>\n    <tr>\n      <th>968</th>\n      <td>female</td>\n      <td>some college</td>\n      <td>free/reduced</td>\n      <td>none</td>\n      <td>77</td>\n      <td>86</td>\n    </tr>\n  </tbody>\n</table>\n<p>969 rows × 6 columns</p>\n</div>"
     },
     "execution_count": 82,
     "metadata": {},
     "output_type": "execute_result"
    }
   ],
   "source": [
    "Data"
   ],
   "metadata": {
    "collapsed": false,
    "pycharm": {
     "name": "#%%\n"
    }
   }
  },
  {
   "cell_type": "code",
   "execution_count": 82,
   "outputs": [],
   "source": [],
   "metadata": {
    "collapsed": false,
    "pycharm": {
     "name": "#%%\n"
    }
   }
  },
  {
   "cell_type": "code",
   "execution_count": 82,
   "outputs": [],
   "source": [
    "\n"
   ],
   "metadata": {
    "collapsed": false,
    "pycharm": {
     "name": "#%%\n"
    }
   }
  },
  {
   "cell_type": "code",
   "execution_count": 82,
   "outputs": [],
   "source": [],
   "metadata": {
    "collapsed": false,
    "pycharm": {
     "name": "#%%\n"
    }
   }
  },
  {
   "cell_type": "code",
   "execution_count": 83,
   "outputs": [
    {
     "data": {
      "text/plain": "     gender      parental_level   restoration test_preparation  score_math  \\\n0    female   bachelor's degree      standard             none          72   \n1    female        some college      standard        completed          69   \n2    female     master's degree      standard             none          90   \n3      male  associate's degree  free/reduced             none          47   \n4      male        some college      standard             none          76   \n..      ...                 ...           ...              ...         ...   \n964    male         high school      standard             none          63   \n965    male         high school  free/reduced             none          62   \n966  female         high school  free/reduced        completed          59   \n967  female        some college      standard        completed          68   \n968  female        some college  free/reduced             none          77   \n\n     score_bac  \n0           74  \n1           88  \n2           93  \n3           44  \n4           75  \n..         ...  \n964         62  \n965         55  \n966         65  \n967         77  \n968         86  \n\n[969 rows x 6 columns]",
      "text/html": "<div>\n<style scoped>\n    .dataframe tbody tr th:only-of-type {\n        vertical-align: middle;\n    }\n\n    .dataframe tbody tr th {\n        vertical-align: top;\n    }\n\n    .dataframe thead th {\n        text-align: right;\n    }\n</style>\n<table border=\"1\" class=\"dataframe\">\n  <thead>\n    <tr style=\"text-align: right;\">\n      <th></th>\n      <th>gender</th>\n      <th>parental_level</th>\n      <th>restoration</th>\n      <th>test_preparation</th>\n      <th>score_math</th>\n      <th>score_bac</th>\n    </tr>\n  </thead>\n  <tbody>\n    <tr>\n      <th>0</th>\n      <td>female</td>\n      <td>bachelor's degree</td>\n      <td>standard</td>\n      <td>none</td>\n      <td>72</td>\n      <td>74</td>\n    </tr>\n    <tr>\n      <th>1</th>\n      <td>female</td>\n      <td>some college</td>\n      <td>standard</td>\n      <td>completed</td>\n      <td>69</td>\n      <td>88</td>\n    </tr>\n    <tr>\n      <th>2</th>\n      <td>female</td>\n      <td>master's degree</td>\n      <td>standard</td>\n      <td>none</td>\n      <td>90</td>\n      <td>93</td>\n    </tr>\n    <tr>\n      <th>3</th>\n      <td>male</td>\n      <td>associate's degree</td>\n      <td>free/reduced</td>\n      <td>none</td>\n      <td>47</td>\n      <td>44</td>\n    </tr>\n    <tr>\n      <th>4</th>\n      <td>male</td>\n      <td>some college</td>\n      <td>standard</td>\n      <td>none</td>\n      <td>76</td>\n      <td>75</td>\n    </tr>\n    <tr>\n      <th>...</th>\n      <td>...</td>\n      <td>...</td>\n      <td>...</td>\n      <td>...</td>\n      <td>...</td>\n      <td>...</td>\n    </tr>\n    <tr>\n      <th>964</th>\n      <td>male</td>\n      <td>high school</td>\n      <td>standard</td>\n      <td>none</td>\n      <td>63</td>\n      <td>62</td>\n    </tr>\n    <tr>\n      <th>965</th>\n      <td>male</td>\n      <td>high school</td>\n      <td>free/reduced</td>\n      <td>none</td>\n      <td>62</td>\n      <td>55</td>\n    </tr>\n    <tr>\n      <th>966</th>\n      <td>female</td>\n      <td>high school</td>\n      <td>free/reduced</td>\n      <td>completed</td>\n      <td>59</td>\n      <td>65</td>\n    </tr>\n    <tr>\n      <th>967</th>\n      <td>female</td>\n      <td>some college</td>\n      <td>standard</td>\n      <td>completed</td>\n      <td>68</td>\n      <td>77</td>\n    </tr>\n    <tr>\n      <th>968</th>\n      <td>female</td>\n      <td>some college</td>\n      <td>free/reduced</td>\n      <td>none</td>\n      <td>77</td>\n      <td>86</td>\n    </tr>\n  </tbody>\n</table>\n<p>969 rows × 6 columns</p>\n</div>"
     },
     "execution_count": 83,
     "metadata": {},
     "output_type": "execute_result"
    }
   ],
   "source": [
    "Data"
   ],
   "metadata": {
    "collapsed": false,
    "pycharm": {
     "name": "#%%\n"
    }
   }
  },
  {
   "cell_type": "code",
   "execution_count": 84,
   "outputs": [
    {
     "data": {
      "text/plain": "Text(0, 0.5, 'Score Bac')"
     },
     "execution_count": 84,
     "metadata": {},
     "output_type": "execute_result"
    },
    {
     "data": {
      "text/plain": "<Figure size 432x288 with 1 Axes>",
      "image/png": "[encoded data removed]"
     },
     "metadata": {
      "needs_background": "light"
     },
     "output_type": "display_data"
    }
   ],
   "source": [
    "plt.scatter(Data.gender,Data.score_bac,marker='+',color='red')\n",
    "plt.ylabel('Score Bac')"
   ],
   "metadata": {
    "collapsed": false,
    "pycharm": {
     "name": "#%%\n"
    }
   }
  },
  {
   "cell_type": "code",
   "execution_count": 85,
   "outputs": [
    {
     "data": {
      "text/plain": "<matplotlib.collections.PathCollection at 0x2aa29f0b5b0>"
     },
     "execution_count": 85,
     "metadata": {},
     "output_type": "execute_result"
    },
    {
     "data": {
      "text/plain": "<Figure size 720x576 with 1 Axes>",
      "image/png": "[encoded data removed]"
     },
     "metadata": {
      "needs_background": "light"
     },
     "output_type": "display_data"
    }
   ],
   "source": [
    "fig = plt.figure(figsize=(10,8))\n",
    "plt.scatter(Data.parental_level,Data.score_bac,marker='+',color='red')"
   ],
   "metadata": {
    "collapsed": false,
    "pycharm": {
     "name": "#%%\n"
    }
   }
  },
  {
   "cell_type": "code",
   "execution_count": 86,
   "outputs": [
    {
     "data": {
      "text/plain": "Text(0, 0.5, 'Score Bac')"
     },
     "execution_count": 86,
     "metadata": {},
     "output_type": "execute_result"
    },
    {
     "data": {
      "text/plain": "<Figure size 432x288 with 1 Axes>",
      "image/png": "[encoded data removed]"
     },
     "metadata": {
      "needs_background": "light"
     },
     "output_type": "display_data"
    }
   ],
   "source": [
    "plt.scatter(Data.restoration,Data.score_bac,marker='+',color='red')\n",
    "plt.ylabel('Score Bac')"
   ],
   "metadata": {
    "collapsed": false,
    "pycharm": {
     "name": "#%%\n"
    }
   }
  },
  {
   "cell_type": "code",
   "execution_count": 87,
   "outputs": [
    {
     "data": {
      "text/plain": "Text(0, 0.5, 'Score Bac')"
     },
     "execution_count": 87,
     "metadata": {},
     "output_type": "execute_result"
    },
    {
     "data": {
      "text/plain": "<Figure size 432x288 with 1 Axes>",
      "image/png": "[encoded data removed]"
     },
     "metadata": {
      "needs_background": "light"
     },
     "output_type": "display_data"
    }
   ],
   "source": [
    "plt.scatter(Data.test_preparation,Data.score_bac,marker='+',color='red')\n",
    "plt.ylabel('Score Bac')"
   ],
   "metadata": {
    "collapsed": false,
    "pycharm": {
     "name": "#%%\n"
    }
   }
  },
  {
   "cell_type": "code",
   "execution_count": 88,
   "outputs": [
    {
     "data": {
      "text/plain": "Text(0, 0.5, 'Score Bac')"
     },
     "execution_count": 88,
     "metadata": {},
     "output_type": "execute_result"
    },
    {
     "data": {
      "text/plain": "<Figure size 432x288 with 1 Axes>",
      "image/png": "[encoded data removed]"
     },
     "metadata": {
      "needs_background": "light"
     },
     "output_type": "display_data"
    }
   ],
   "source": [
    "plt.scatter(Data.score_math,Data.score_bac,marker='+',color='red')\n",
    "plt.ylabel('Score Bac')"
   ],
   "metadata": {
    "collapsed": false,
    "pycharm": {
     "name": "#%%\n"
    }
   }
  },
  {
   "cell_type": "code",
   "execution_count": 88,
   "outputs": [],
   "source": [],
   "metadata": {
    "collapsed": false,
    "pycharm": {
     "name": "#%%\n"
    }
   }
  },
  {
   "cell_type": "code",
   "execution_count": 88,
   "outputs": [],
   "source": [],
   "metadata": {
    "collapsed": false,
    "pycharm": {
     "name": "#%%\n"
    }
   }
  },
  {
   "cell_type": "code",
   "execution_count": 88,
   "outputs": [],
   "source": [],
   "metadata": {
    "collapsed": false,
    "pycharm": {
     "name": "#%%\n"
    }
   }
  },
  {
   "cell_type": "code",
   "execution_count": 88,
   "outputs": [],
   "source": [],
   "metadata": {
    "collapsed": false,
    "pycharm": {
     "name": "#%%\n"
    }
   }
  },
  {
   "cell_type": "code",
   "execution_count": 88,
   "outputs": [],
   "source": [],
   "metadata": {
    "collapsed": false,
    "pycharm": {
     "name": "#%%\n"
    }
   }
  },
  {
   "cell_type": "code",
   "execution_count": 88,
   "outputs": [],
   "source": [],
   "metadata": {
    "collapsed": false,
    "pycharm": {
     "name": "#%%\n"
    }
   }
  },
  {
   "cell_type": "code",
   "execution_count": 89,
   "outputs": [],
   "source": [
    "X = Data.iloc[:,:-1]\n",
    "Y = Data.iloc[:,-1]"
   ],
   "metadata": {
    "collapsed": false,
    "pycharm": {
     "name": "#%%\n"
    }
   }
  },
  {
   "cell_type": "code",
   "execution_count": 90,
   "outputs": [
    {
     "data": {
      "text/plain": "     gender      parental_level   restoration test_preparation  score_math\n0    female   bachelor's degree      standard             none          72\n1    female        some college      standard        completed          69\n2    female     master's degree      standard             none          90\n3      male  associate's degree  free/reduced             none          47\n4      male        some college      standard             none          76\n..      ...                 ...           ...              ...         ...\n964    male         high school      standard             none          63\n965    male         high school  free/reduced             none          62\n966  female         high school  free/reduced        completed          59\n967  female        some college      standard        completed          68\n968  female        some college  free/reduced             none          77\n\n[969 rows x 5 columns]",
      "text/html": "<div>\n<style scoped>\n    .dataframe tbody tr th:only-of-type {\n        vertical-align: middle;\n    }\n\n    .dataframe tbody tr th {\n        vertical-align: top;\n    }\n\n    .dataframe thead th {\n        text-align: right;\n    }\n</style>\n<table border=\"1\" class=\"dataframe\">\n  <thead>\n    <tr style=\"text-align: right;\">\n      <th></th>\n      <th>gender</th>\n      <th>parental_level</th>\n      <th>restoration</th>\n      <th>test_preparation</th>\n      <th>score_math</th>\n    </tr>\n  </thead>\n  <tbody>\n    <tr>\n      <th>0</th>\n      <td>female</td>\n      <td>bachelor's degree</td>\n      <td>standard</td>\n      <td>none</td>\n      <td>72</td>\n    </tr>\n    <tr>\n      <th>1</th>\n      <td>female</td>\n      <td>some college</td>\n      <td>standard</td>\n      <td>completed</td>\n      <td>69</td>\n    </tr>\n    <tr>\n      <th>2</th>\n      <td>female</td>\n      <td>master's degree</td>\n      <td>standard</td>\n      <td>none</td>\n      <td>90</td>\n    </tr>\n    <tr>\n      <th>3</th>\n      <td>male</td>\n      <td>associate's degree</td>\n      <td>free/reduced</td>\n      <td>none</td>\n      <td>47</td>\n    </tr>\n    <tr>\n      <th>4</th>\n      <td>male</td>\n      <td>some college</td>\n      <td>standard</td>\n      <td>none</td>\n      <td>76</td>\n    </tr>\n    <tr>\n      <th>...</th>\n      <td>...</td>\n      <td>...</td>\n      <td>...</td>\n      <td>...</td>\n      <td>...</td>\n    </tr>\n    <tr>\n      <th>964</th>\n      <td>male</td>\n      <td>high school</td>\n      <td>standard</td>\n      <td>none</td>\n      <td>63</td>\n    </tr>\n    <tr>\n      <th>965</th>\n      <td>male</td>\n      <td>high school</td>\n      <td>free/reduced</td>\n      <td>none</td>\n      <td>62</td>\n    </tr>\n    <tr>\n      <th>966</th>\n      <td>female</td>\n      <td>high school</td>\n      <td>free/reduced</td>\n      <td>completed</td>\n      <td>59</td>\n    </tr>\n    <tr>\n      <th>967</th>\n      <td>female</td>\n      <td>some college</td>\n      <td>standard</td>\n      <td>completed</td>\n      <td>68</td>\n    </tr>\n    <tr>\n      <th>968</th>\n      <td>female</td>\n      <td>some college</td>\n      <td>free/reduced</td>\n      <td>none</td>\n      <td>77</td>\n    </tr>\n  </tbody>\n</table>\n<p>969 rows × 5 columns</p>\n</div>"
     },
     "execution_count": 90,
     "metadata": {},
     "output_type": "execute_result"
    }
   ],
   "source": [
    "X"
   ],
   "metadata": {
    "collapsed": false,
    "pycharm": {
     "name": "#%%\n"
    }
   }
  },
  {
   "cell_type": "code",
   "execution_count": 91,
   "outputs": [
    {
     "data": {
      "text/plain": "0      74\n1      88\n2      93\n3      44\n4      75\n       ..\n964    62\n965    55\n966    65\n967    77\n968    86\nName: score_bac, Length: 969, dtype: int64"
     },
     "execution_count": 91,
     "metadata": {},
     "output_type": "execute_result"
    }
   ],
   "source": [
    "Y"
   ],
   "metadata": {
    "collapsed": false,
    "pycharm": {
     "name": "#%%\n"
    }
   }
  },
  {
   "cell_type": "code",
   "execution_count": 92,
   "outputs": [
    {
     "name": "stdout",
     "output_type": "stream",
     "text": [
      "Index(['gender', 'parental_level', 'restoration', 'test_preparation',\n",
      "       'score_math', 'score_bac'],\n",
      "      dtype='object')\n"
     ]
    }
   ],
   "source": [
    "Data.columns = [each.split()[0] + \"_\" + each.split()[1] if (len(each.split()) > 1) else each for each in Data.columns ]\n",
    "print(Data.columns)"
   ],
   "metadata": {
    "collapsed": false,
    "pycharm": {
     "name": "#%%\n"
    }
   }
  },
  {
   "cell_type": "code",
   "execution_count": 93,
   "outputs": [
    {
     "data": {
      "text/plain": "   gender      parental_level   restoration test_preparation  score_math  \\\n0  female   bachelor's degree      standard             none          72   \n1  female        some college      standard        completed          69   \n2  female     master's degree      standard             none          90   \n3    male  associate's degree  free/reduced             none          47   \n4    male        some college      standard             none          76   \n\n   score_bac  \n0         74  \n1         88  \n2         93  \n3         44  \n4         75  ",
      "text/html": "<div>\n<style scoped>\n    .dataframe tbody tr th:only-of-type {\n        vertical-align: middle;\n    }\n\n    .dataframe tbody tr th {\n        vertical-align: top;\n    }\n\n    .dataframe thead th {\n        text-align: right;\n    }\n</style>\n<table border=\"1\" class=\"dataframe\">\n  <thead>\n    <tr style=\"text-align: right;\">\n      <th></th>\n      <th>gender</th>\n      <th>parental_level</th>\n      <th>restoration</th>\n      <th>test_preparation</th>\n      <th>score_math</th>\n      <th>score_bac</th>\n    </tr>\n  </thead>\n  <tbody>\n    <tr>\n      <th>0</th>\n      <td>female</td>\n      <td>bachelor's degree</td>\n      <td>standard</td>\n      <td>none</td>\n      <td>72</td>\n      <td>74</td>\n    </tr>\n    <tr>\n      <th>1</th>\n      <td>female</td>\n      <td>some college</td>\n      <td>standard</td>\n      <td>completed</td>\n      <td>69</td>\n      <td>88</td>\n    </tr>\n    <tr>\n      <th>2</th>\n      <td>female</td>\n      <td>master's degree</td>\n      <td>standard</td>\n      <td>none</td>\n      <td>90</td>\n      <td>93</td>\n    </tr>\n    <tr>\n      <th>3</th>\n      <td>male</td>\n      <td>associate's degree</td>\n      <td>free/reduced</td>\n      <td>none</td>\n      <td>47</td>\n      <td>44</td>\n    </tr>\n    <tr>\n      <th>4</th>\n      <td>male</td>\n      <td>some college</td>\n      <td>standard</td>\n      <td>none</td>\n      <td>76</td>\n      <td>75</td>\n    </tr>\n  </tbody>\n</table>\n</div>"
     },
     "execution_count": 93,
     "metadata": {},
     "output_type": "execute_result"
    }
   ],
   "source": [
    "Data.head()"
   ],
   "metadata": {
    "collapsed": false,
    "pycharm": {
     "name": "#%%\n"
    }
   }
  },
  {
   "cell_type": "code",
   "execution_count": 94,
   "outputs": [],
   "source": [
    "X['gender'].replace( 'female', 0 ,inplace=True)\n",
    "X['gender'].replace( 'male', 1 ,inplace=True)\n",
    "# from sklearn.preprocessing import LabelEncoder\n",
    "# le = LabelEncoder()"
   ],
   "metadata": {
    "collapsed": false,
    "pycharm": {
     "name": "#%%\n"
    }
   }
  },
  {
   "cell_type": "code",
   "execution_count": 95,
   "outputs": [],
   "source": [
    "# dfle = Data\n",
    "# dfle.gender = le.fit_transform(dfle.gender)\n",
    "# # dfle.race/ethnicity = le.fit_transform(dfle.race/ethnicity)\n",
    "# # dfle.parental_level = le.fit_transform(parental_level)\n",
    "# # dfle.lunch = le.fit_transform(lunch)\n",
    "# # dfle.test_preparation = le.fit_transform(test_preparation)\n",
    "# dfle"
   ],
   "metadata": {
    "collapsed": false,
    "pycharm": {
     "name": "#%%\n"
    }
   }
  },
  {
   "cell_type": "code",
   "execution_count": 95,
   "outputs": [],
   "source": [],
   "metadata": {
    "collapsed": false,
    "pycharm": {
     "name": "#%%\n"
    }
   }
  },
  {
   "cell_type": "code",
   "execution_count": 96,
   "outputs": [],
   "source": [
    "X['test_preparation'].replace( 'none', 0 ,inplace=True)\n",
    "X['test_preparation'].replace( 'completed', 1 ,inplace=True)"
   ],
   "metadata": {
    "collapsed": false,
    "pycharm": {
     "name": "#%%\n"
    }
   }
  },
  {
   "cell_type": "code",
   "execution_count": 97,
   "outputs": [],
   "source": [
    "X['parental_level'].replace( 'bachelor\\'s degree', 1 ,inplace=True)\n",
    "X['parental_level'].replace( 'some college', 2 ,inplace=True)\n",
    "X['parental_level'].replace( 'master\\'s degree', 3 ,inplace=True)\n",
    "X['parental_level'].replace( 'associate\\'s degree', 4 ,inplace=True)\n",
    "X['parental_level'].replace( 'high school', 5 ,inplace=True)\n",
    "X['parental_level'].replace( 'some high school', 6 ,inplace=True)"
   ],
   "metadata": {
    "collapsed": false,
    "pycharm": {
     "name": "#%%\n"
    }
   }
  },
  {
   "cell_type": "code",
   "execution_count": 98,
   "outputs": [],
   "source": [
    "# X['parents visit'].unique()"
   ],
   "metadata": {
    "collapsed": false,
    "pycharm": {
     "name": "#%%\n"
    }
   }
  },
  {
   "cell_type": "code",
   "execution_count": 99,
   "outputs": [],
   "source": [
    "# X['parents visit'].replace( 'group A', 1 ,inplace=True)\n",
    "# X['parents visit'].replace( 'group B', 2 ,inplace=True)\n",
    "# X['parents visit'].replace( 'group C', 3 ,inplace=True)\n",
    "# X['parents visit'].replace( 'group D', 4 ,inplace=True)\n",
    "# X['parents visit'].replace( 'group E', 5 ,inplace=True)"
   ],
   "metadata": {
    "collapsed": false,
    "pycharm": {
     "name": "#%%\n"
    }
   }
  },
  {
   "cell_type": "code",
   "execution_count": 100,
   "outputs": [
    {
     "data": {
      "text/plain": "array(['standard', 'free/reduced'], dtype=object)"
     },
     "execution_count": 100,
     "metadata": {},
     "output_type": "execute_result"
    }
   ],
   "source": [
    "X['restoration'].unique()"
   ],
   "metadata": {
    "collapsed": false,
    "pycharm": {
     "name": "#%%\n"
    }
   }
  },
  {
   "cell_type": "code",
   "execution_count": 101,
   "outputs": [],
   "source": [
    "X['restoration'].replace( 'standard', 0 ,inplace=True)\n",
    "X['restoration'].replace( 'free/reduced', 1 ,inplace=True)"
   ],
   "metadata": {
    "collapsed": false,
    "pycharm": {
     "name": "#%%\n"
    }
   }
  },
  {
   "cell_type": "code",
   "execution_count": 102,
   "outputs": [
    {
     "data": {
      "text/plain": "     gender  parental_level  restoration  test_preparation  score_math\n0         0               1            0                 0          72\n1         0               2            0                 1          69\n2         0               3            0                 0          90\n3         1               4            1                 0          47\n4         1               2            0                 0          76\n..      ...             ...          ...               ...         ...\n964       1               5            0                 0          63\n965       1               5            1                 0          62\n966       0               5            1                 1          59\n967       0               2            0                 1          68\n968       0               2            1                 0          77\n\n[969 rows x 5 columns]",
      "text/html": "<div>\n<style scoped>\n    .dataframe tbody tr th:only-of-type {\n        vertical-align: middle;\n    }\n\n    .dataframe tbody tr th {\n        vertical-align: top;\n    }\n\n    .dataframe thead th {\n        text-align: right;\n    }\n</style>\n<table border=\"1\" class=\"dataframe\">\n  <thead>\n    <tr style=\"text-align: right;\">\n      <th></th>\n      <th>gender</th>\n      <th>parental_level</th>\n      <th>restoration</th>\n      <th>test_preparation</th>\n      <th>score_math</th>\n    </tr>\n  </thead>\n  <tbody>\n    <tr>\n      <th>0</th>\n      <td>0</td>\n      <td>1</td>\n      <td>0</td>\n      <td>0</td>\n      <td>72</td>\n    </tr>\n    <tr>\n      <th>1</th>\n      <td>0</td>\n      <td>2</td>\n      <td>0</td>\n      <td>1</td>\n      <td>69</td>\n    </tr>\n    <tr>\n      <th>2</th>\n      <td>0</td>\n      <td>3</td>\n      <td>0</td>\n      <td>0</td>\n      <td>90</td>\n    </tr>\n    <tr>\n      <th>3</th>\n      <td>1</td>\n      <td>4</td>\n      <td>1</td>\n      <td>0</td>\n      <td>47</td>\n    </tr>\n    <tr>\n      <th>4</th>\n      <td>1</td>\n      <td>2</td>\n      <td>0</td>\n      <td>0</td>\n      <td>76</td>\n    </tr>\n    <tr>\n      <th>...</th>\n      <td>...</td>\n      <td>...</td>\n      <td>...</td>\n      <td>...</td>\n      <td>...</td>\n    </tr>\n    <tr>\n      <th>964</th>\n      <td>1</td>\n      <td>5</td>\n      <td>0</td>\n      <td>0</td>\n      <td>63</td>\n    </tr>\n    <tr>\n      <th>965</th>\n      <td>1</td>\n      <td>5</td>\n      <td>1</td>\n      <td>0</td>\n      <td>62</td>\n    </tr>\n    <tr>\n      <th>966</th>\n      <td>0</td>\n      <td>5</td>\n      <td>1</td>\n      <td>1</td>\n      <td>59</td>\n    </tr>\n    <tr>\n      <th>967</th>\n      <td>0</td>\n      <td>2</td>\n      <td>0</td>\n      <td>1</td>\n      <td>68</td>\n    </tr>\n    <tr>\n      <th>968</th>\n      <td>0</td>\n      <td>2</td>\n      <td>1</td>\n      <td>0</td>\n      <td>77</td>\n    </tr>\n  </tbody>\n</table>\n<p>969 rows × 5 columns</p>\n</div>"
     },
     "execution_count": 102,
     "metadata": {},
     "output_type": "execute_result"
    }
   ],
   "source": [
    "X"
   ],
   "metadata": {
    "collapsed": false,
    "pycharm": {
     "name": "#%%\n"
    }
   }
  },
  {
   "cell_type": "code",
   "execution_count": 103,
   "outputs": [],
   "source": [
    "X_train,X_test,Y_train,Y_test=train_test_split(X,Y,test_size=0.2)"
   ],
   "metadata": {
    "collapsed": false,
    "pycharm": {
     "name": "#%%\n"
    }
   }
  },
  {
   "cell_type": "code",
   "execution_count": 104,
   "outputs": [
    {
     "data": {
      "text/plain": "     gender  parental_level  restoration  test_preparation  score_math\n525       1               1            0                 1          85\n304       0               4            0                 0          73\n719       0               5            0                 0          81\n198       1               2            0                 0          59\n471       1               5            0                 0          59\n..      ...             ...          ...               ...         ...\n151       0               2            0                 1          70\n59        0               6            1                 0           0\n118       1               4            0                 1          91\n928       1               4            0                 0          72\n63        0               4            0                 0          69\n\n[775 rows x 5 columns]",
      "text/html": "<div>\n<style scoped>\n    .dataframe tbody tr th:only-of-type {\n        vertical-align: middle;\n    }\n\n    .dataframe tbody tr th {\n        vertical-align: top;\n    }\n\n    .dataframe thead th {\n        text-align: right;\n    }\n</style>\n<table border=\"1\" class=\"dataframe\">\n  <thead>\n    <tr style=\"text-align: right;\">\n      <th></th>\n      <th>gender</th>\n      <th>parental_level</th>\n      <th>restoration</th>\n      <th>test_preparation</th>\n      <th>score_math</th>\n    </tr>\n  </thead>\n  <tbody>\n    <tr>\n      <th>525</th>\n      <td>1</td>\n      <td>1</td>\n      <td>0</td>\n      <td>1</td>\n      <td>85</td>\n    </tr>\n    <tr>\n      <th>304</th>\n      <td>0</td>\n      <td>4</td>\n      <td>0</td>\n      <td>0</td>\n      <td>73</td>\n    </tr>\n    <tr>\n      <th>719</th>\n      <td>0</td>\n      <td>5</td>\n      <td>0</td>\n      <td>0</td>\n      <td>81</td>\n    </tr>\n    <tr>\n      <th>198</th>\n      <td>1</td>\n      <td>2</td>\n      <td>0</td>\n      <td>0</td>\n      <td>59</td>\n    </tr>\n    <tr>\n      <th>471</th>\n      <td>1</td>\n      <td>5</td>\n      <td>0</td>\n      <td>0</td>\n      <td>59</td>\n    </tr>\n    <tr>\n      <th>...</th>\n      <td>...</td>\n      <td>...</td>\n      <td>...</td>\n      <td>...</td>\n      <td>...</td>\n    </tr>\n    <tr>\n      <th>151</th>\n      <td>0</td>\n      <td>2</td>\n      <td>0</td>\n      <td>1</td>\n      <td>70</td>\n    </tr>\n    <tr>\n      <th>59</th>\n      <td>0</td>\n      <td>6</td>\n      <td>1</td>\n      <td>0</td>\n      <td>0</td>\n    </tr>\n    <tr>\n      <th>118</th>\n      <td>1</td>\n      <td>4</td>\n      <td>0</td>\n      <td>1</td>\n      <td>91</td>\n    </tr>\n    <tr>\n      <th>928</th>\n      <td>1</td>\n      <td>4</td>\n      <td>0</td>\n      <td>0</td>\n      <td>72</td>\n    </tr>\n    <tr>\n      <th>63</th>\n      <td>0</td>\n      <td>4</td>\n      <td>0</td>\n      <td>0</td>\n      <td>69</td>\n    </tr>\n  </tbody>\n</table>\n<p>775 rows × 5 columns</p>\n</div>"
     },
     "execution_count": 104,
     "metadata": {},
     "output_type": "execute_result"
    }
   ],
   "source": [
    "X_train\n"
   ],
   "metadata": {
    "collapsed": false,
    "pycharm": {
     "name": "#%%\n"
    }
   }
  },
  {
   "cell_type": "code",
   "execution_count": 105,
   "outputs": [
    {
     "data": {
      "text/plain": "525    71\n304    80\n719    82\n198    42\n471    46\n       ..\n151    88\n59     10\n118    92\n928    62\n63     71\nName: score_bac, Length: 775, dtype: int64"
     },
     "execution_count": 105,
     "metadata": {},
     "output_type": "execute_result"
    }
   ],
   "source": [
    "Y_train"
   ],
   "metadata": {
    "collapsed": false,
    "pycharm": {
     "name": "#%%\n"
    }
   }
  },
  {
   "cell_type": "code",
   "execution_count": 105,
   "outputs": [],
   "source": [],
   "metadata": {
    "collapsed": false,
    "pycharm": {
     "name": "#%%\n"
    }
   }
  },
  {
   "cell_type": "code",
   "execution_count": 106,
   "outputs": [
    {
     "data": {
      "text/plain": "Lasso()",
      "text/html": "<style>#sk-container-id-3 {color: black;background-color: white;}#sk-container-id-3 pre{padding: 0;}#sk-container-id-3 div.sk-toggleable {background-color: white;}#sk-container-id-3 label.sk-toggleable__label {cursor: pointer;display: block;width: 100%;margin-bottom: 0;padding: 0.3em;box-sizing: border-box;text-align: center;}#sk-container-id-3 label.sk-toggleable__label-arrow:before {content: \"▸\";float: left;margin-right: 0.25em;color: #696969;}#sk-container-id-3 label.sk-toggleable__label-arrow:hover:before {color: black;}#sk-container-id-3 div.sk-estimator:hover label.sk-toggleable__label-arrow:before {color: black;}#sk-container-id-3 div.sk-toggleable__content {max-height: 0;max-width: 0;overflow: hidden;text-align: left;background-color: #f0f8ff;}#sk-container-id-3 div.sk-toggleable__content pre {margin: 0.2em;color: black;border-radius: 0.25em;background-color: #f0f8ff;}#sk-container-id-3 input.sk-toggleable__control:checked~div.sk-toggleable__content {max-height: 200px;max-width: 100%;overflow: auto;}#sk-container-id-3 input.sk-toggleable__control:checked~label.sk-toggleable__label-arrow:before {content: \"▾\";}#sk-container-id-3 div.sk-estimator input.sk-toggleable__control:checked~label.sk-toggleable__label {background-color: #d4ebff;}#sk-container-id-3 div.sk-label input.sk-toggleable__control:checked~label.sk-toggleable__label {background-color: #d4ebff;}#sk-container-id-3 input.sk-hidden--visually {border: 0;clip: rect(1px 1px 1px 1px);clip: rect(1px, 1px, 1px, 1px);height: 1px;margin: -1px;overflow: hidden;padding: 0;position: absolute;width: 1px;}#sk-container-id-3 div.sk-estimator {font-family: monospace;background-color: #f0f8ff;border: 1px dotted black;border-radius: 0.25em;box-sizing: border-box;margin-bottom: 0.5em;}#sk-container-id-3 div.sk-estimator:hover {background-color: #d4ebff;}#sk-container-id-3 div.sk-parallel-item::after {content: \"\";width: 100%;border-bottom: 1px solid gray;flex-grow: 1;}#sk-container-id-3 div.sk-label:hover label.sk-toggleable__label {background-color: #d4ebff;}#sk-container-id-3 div.sk-serial::before {content: \"\";position: absolute;border-left: 1px solid gray;box-sizing: border-box;top: 0;bottom: 0;left: 50%;z-index: 0;}#sk-container-id-3 div.sk-serial {display: flex;flex-direction: column;align-items: center;background-color: white;padding-right: 0.2em;padding-left: 0.2em;position: relative;}#sk-container-id-3 div.sk-item {position: relative;z-index: 1;}#sk-container-id-3 div.sk-parallel {display: flex;align-items: stretch;justify-content: center;background-color: white;position: relative;}#sk-container-id-3 div.sk-item::before, #sk-container-id-3 div.sk-parallel-item::before {content: \"\";position: absolute;border-left: 1px solid gray;box-sizing: border-box;top: 0;bottom: 0;left: 50%;z-index: -1;}#sk-container-id-3 div.sk-parallel-item {display: flex;flex-direction: column;z-index: 1;position: relative;background-color: white;}#sk-container-id-3 div.sk-parallel-item:first-child::after {align-self: flex-end;width: 50%;}#sk-container-id-3 div.sk-parallel-item:last-child::after {align-self: flex-start;width: 50%;}#sk-container-id-3 div.sk-parallel-item:only-child::after {width: 0;}#sk-container-id-3 div.sk-dashed-wrapped {border: 1px dashed gray;margin: 0 0.4em 0.5em 0.4em;box-sizing: border-box;padding-bottom: 0.4em;background-color: white;}#sk-container-id-3 div.sk-label label {font-family: monospace;font-weight: bold;display: inline-block;line-height: 1.2em;}#sk-container-id-3 div.sk-label-container {text-align: center;}#sk-container-id-3 div.sk-container {/* jupyter's `normalize.less` sets `[hidden] { display: none; }` but bootstrap.min.css set `[hidden] { display: none !important; }` so we also need the `!important` here to be able to override the default hidden behavior on the sphinx rendered scikit-learn.org. See: https://github.com/scikit-learn/scikit-learn/issues/21755 */display: inline-block !important;position: relative;}#sk-container-id-3 div.sk-text-repr-fallback {display: none;}</style><div id=\"sk-container-id-3\" class=\"sk-top-container\"><div class=\"sk-text-repr-fallback\"><pre>Lasso()</pre><b>In a Jupyter environment, please rerun this cell to show the HTML representation or trust the notebook. <br />On GitHub, the HTML representation is unable to render, please try loading this page with nbviewer.org.</b></div><div class=\"sk-container\" hidden><div class=\"sk-item\"><div class=\"sk-estimator sk-toggleable\"><input class=\"sk-toggleable__control sk-hidden--visually\" id=\"sk-estimator-id-3\" type=\"checkbox\" checked><label for=\"sk-estimator-id-3\" class=\"sk-toggleable__label sk-toggleable__label-arrow\">Lasso</label><div class=\"sk-toggleable__content\"><pre>Lasso()</pre></div></div></div></div></div>"
     },
     "execution_count": 106,
     "metadata": {},
     "output_type": "execute_result"
    }
   ],
   "source": [
    "model = Lasso()\n",
    "model.fit(X_train,Y_train)"
   ],
   "metadata": {
    "collapsed": false,
    "pycharm": {
     "name": "#%%\n"
    }
   }
  },
  {
   "cell_type": "code",
   "execution_count": 107,
   "outputs": [],
   "source": [
    "# regressor = LinearRegression()\n",
    "#\n",
    "# regressor.fit(X_train,Y_train)\n"
   ],
   "metadata": {
    "collapsed": false,
    "pycharm": {
     "name": "#%%\n"
    }
   }
  },
  {
   "cell_type": "code",
   "execution_count": 108,
   "outputs": [],
   "source": [
    "Y_pred=model.predict(X_test)"
   ],
   "metadata": {
    "collapsed": false,
    "pycharm": {
     "name": "#%%\n"
    }
   }
  },
  {
   "cell_type": "code",
   "execution_count": 109,
   "outputs": [
    {
     "data": {
      "text/plain": "array([62.51297895, 73.16721145, 67.72630834, 85.27489524, 72.55001566,\n       72.72739418, 52.16522943, 61.99327927, 69.21662533, 80.39055752,\n       78.13143158, 32.73670347, 80.00419213, 60.64739692, 68.16286894,\n       68.10549522, 58.77463637, 78.72286201, 83.34476097, 54.67243709,\n       77.17191462, 68.11267373, 72.17082878, 62.89934434, 70.6198814 ,\n       65.84636928, 54.38031114, 98.84846616, 78.43073605, 68.53813398,\n       60.41264468, 71.97294226, 59.23696234, 72.20769449, 77.26223222,\n       66.90730419, 59.62332773, 64.44311321, 59.82839276, 65.26929588,\n       68.83743845, 58.27744538, 51.33904676, 73.31164609, 61.46640107,\n       59.52908829, 92.44804609, 73.31882461, 71.38869034, 62.51297895,\n       50.43690352, 58.71008414, 60.58284468, 59.23696234, 61.46640107,\n       88.93009873, 65.56142184, 72.49982045, 60.79183156, 47.10351319,\n       74.13065025, 52.74230283, 37.13102871, 48.97627373, 71.38869034,\n       77.47121909, 80.39773603, 52.15805091, 62.08034019, 63.78290072,\n       62.51297895, 71.8213291 , 68.9890516 , 58.3348191 , 58.19038446,\n       53.51111177, 62.6645921 , 51.34622527, 70.7603942 , 51.72541215,\n       73.74428486, 69.88401633, 85.21752152, 67.78368206, 37.94285435,\n       44.79419205, 84.31537828, 73.66832428, 59.29433606, 70.53282048,\n       77.55435818, 78.95761425, 67.72630834, 72.72739418, 89.02041632,\n       47.30857823, 58.56957133, 74.33571528, 57.65632775, 69.75068204,\n       96.54306686, 61.99327927, 66.47466542, 63.25602253, 76.79272774,\n       66.13849524, 58.41795818, 71.05969867, 71.81415059, 55.14194157,\n       80.00419213, 65.78899556, 72.49264194, 74.13065025, 71.00232495,\n       53.72009865, 68.54531249, 60.20757964, 69.59189037, 64.8294786 ,\n       81.50886614, 71.57939835, 65.99798243, 42.09524884, 61.23164883,\n       86.85552982, 74.95683291, 62.20226614, 85.50246896, 54.83122876,\n       56.8373236 , 61.32588826, 73.74428486, 45.6131962 , 84.09921289,\n       71.90839002, 66.60799971, 66.14567375, 48.8820343 , 63.68148278,\n       51.33904676, 81.99887862, 79.19236648, 33.02882943, 81.69957415,\n       77.84648414, 73.31164609, 56.78712839, 79.2497402 , 46.51926127,\n       55.733372  , 71.87870283, 82.08593954, 91.09498523, 74.27834156,\n       74.19520248, 65.84636928, 81.69957415, 77.76334505, 64.88685232,\n       68.92449937, 62.6645921 , 68.16286894, 54.18960312, 69.41451185,\n       85.44509524, 60.20757964, 69.71381632, 57.94845371, 56.77994988,\n       77.90385786, 71.97294226, 61.22447032, 59.395754  , 45.02176577,\n       74.27116305, 56.48782392, 83.67375264, 50.81934708, 62.57035267,\n       71.08938587, 66.14567375, 64.30260041, 76.73535402, 72.86790698,\n       75.30633259, 63.68866129, 70.47544676, 49.23871249, 47.25120451,\n       52.68492911, 64.96999141, 65.17897828, 43.68306194])"
     },
     "execution_count": 109,
     "metadata": {},
     "output_type": "execute_result"
    }
   ],
   "source": [
    "Y_pred"
   ],
   "metadata": {
    "collapsed": false,
    "pycharm": {
     "name": "#%%\n"
    }
   }
  },
  {
   "cell_type": "code",
   "execution_count": 110,
   "outputs": [],
   "source": [
    "#Y_pred=regressor.predict(X_test)"
   ],
   "metadata": {
    "collapsed": false,
    "pycharm": {
     "name": "#%%\n"
    }
   }
  },
  {
   "cell_type": "code",
   "execution_count": 111,
   "outputs": [],
   "source": [
    "# Y_pred"
   ],
   "metadata": {
    "collapsed": false,
    "pycharm": {
     "name": "#%%\n"
    }
   }
  },
  {
   "cell_type": "code",
   "execution_count": 112,
   "outputs": [
    {
     "data": {
      "text/plain": "212    70\n745    75\n421    70\n481    90\n464    66\n       ..\n514    43\n862    59\n893    67\n306    68\n870    38\nName: score_bac, Length: 194, dtype: int64"
     },
     "execution_count": 112,
     "metadata": {},
     "output_type": "execute_result"
    }
   ],
   "source": [
    "Y_test"
   ],
   "metadata": {
    "collapsed": false,
    "pycharm": {
     "name": "#%%\n"
    }
   }
  },
  {
   "cell_type": "code",
   "execution_count": 113,
   "outputs": [
    {
     "data": {
      "text/plain": "array([70, 75, 70, 90, 66, 86, 60, 68, 72, 81, 81, 22, 76, 57, 69, 64, 60,\n       84, 81, 44, 88, 72, 74, 64, 76, 68, 47, 90, 78, 66, 54, 74, 55, 78,\n       85, 68, 69, 61, 54, 61, 70, 47, 49, 82, 70, 58, 91, 84, 78, 59, 60,\n       56, 51, 49, 53, 92, 65, 78, 68, 44, 80, 37, 27, 52, 75, 80, 85, 40,\n       62, 79, 69, 70, 78, 66, 54, 45, 63, 43, 65, 46, 71, 66, 93, 74, 27,\n       43, 89, 81, 56, 78, 84, 82, 63, 69, 86, 43, 56, 66, 43, 79, 92, 62,\n       67, 67, 70, 57, 55, 75, 73, 54, 73, 71, 68, 82, 62, 69, 64, 58, 62,\n       66, 85, 67, 74, 39, 58, 92, 78, 66, 83, 54, 42, 73, 69, 39, 84, 69,\n       65, 72, 43, 62, 50, 87, 79, 15, 83, 78, 72, 52, 84, 43, 55, 71, 76,\n       81, 77, 70, 60, 76, 83, 70, 66, 68, 70, 55, 57, 71, 53, 74, 51, 52,\n       74, 84, 69, 64, 37, 77, 41, 85, 51, 49, 69, 67, 63, 75, 65, 81, 65,\n       70, 38, 43, 59, 67, 68, 38], dtype=int64)"
     },
     "execution_count": 113,
     "metadata": {},
     "output_type": "execute_result"
    }
   ],
   "source": [
    "Y_test.to_numpy()"
   ],
   "metadata": {
    "collapsed": false,
    "pycharm": {
     "name": "#%%\n"
    }
   }
  },
  {
   "cell_type": "code",
   "execution_count": 113,
   "outputs": [],
   "source": [],
   "metadata": {
    "collapsed": false,
    "pycharm": {
     "name": "#%%\n"
    }
   }
  },
  {
   "cell_type": "code",
   "execution_count": 114,
   "outputs": [
    {
     "data": {
      "text/plain": "0.8096322912189541"
     },
     "execution_count": 114,
     "metadata": {},
     "output_type": "execute_result"
    }
   ],
   "source": [
    " model.score(X_test,Y_test)"
   ],
   "metadata": {
    "collapsed": false,
    "pycharm": {
     "name": "#%%\n"
    }
   }
  },
  {
   "cell_type": "code",
   "execution_count": 115,
   "outputs": [],
   "source": [
    " #regressor.score(X_test,Y_test)"
   ],
   "metadata": {
    "collapsed": false,
    "pycharm": {
     "name": "#%%\n"
    }
   }
  },
  {
   "cell_type": "code",
   "execution_count": 116,
   "id": "6cda264d",
   "metadata": {
    "pycharm": {
     "name": "#%%\n"
    }
   },
   "outputs": [],
   "source": [
    "# model.score(X_test,Y_test)"
   ]
  },
  {
   "cell_type": "code",
   "execution_count": 117,
   "id": "eda46557",
   "metadata": {
    "pycharm": {
     "name": "#%%\n"
    }
   },
   "outputs": [],
   "source": [
    " #regressor.score(X_test,Y_test)"
   ]
  },
  {
   "cell_type": "code",
   "execution_count": 118,
   "id": "8026b19b",
   "metadata": {
    "pycharm": {
     "name": "#%%\n"
    }
   },
   "outputs": [],
   "source": [
    "#regressor.predict([[0,1,1,1,60]])"
   ]
  },
  {
   "cell_type": "code",
   "execution_count": 118,
   "id": "a9ea1b1f",
   "metadata": {
    "pycharm": {
     "name": "#%%\n"
    }
   },
   "outputs": [],
   "source": []
  },
  {
   "cell_type": "code",
   "execution_count": 118,
   "id": "9e24c307",
   "metadata": {
    "pycharm": {
     "name": "#%%\n"
    }
   },
   "outputs": [],
   "source": []
  }
 ],
 "metadata": {
  "kernelspec": {
   "display_name": "Python 3 (ipykernel)",
   "language": "python",
   "name": "python3"
  },
  "language_info": {
   "codemirror_mode": {
    "name": "ipython",
    "version": 3
   },
   "file_extension": ".py",
   "mimetype": "text/x-python",
   "name": "python",
   "nbconvert_exporter": "python",
   "pygments_lexer": "ipython3",
   "version": "3.9.7"
  }
 },
 "nbformat": 4,
 "nbformat_minor": 5
}