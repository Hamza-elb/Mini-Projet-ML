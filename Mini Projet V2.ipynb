{
 "cells": [
  {
   "cell_type": "code",
   "execution_count": 886,
   "id": "4b845627",
   "metadata": {},
   "outputs": [],
   "source": [
    "import numpy as np\n",
    "import pandas as pd\n",
    "import matplotlib.pyplot as plt\n",
    "from sklearn.linear_model import LogisticRegression\n",
    "from sklearn.model_selection import train_test_split\n",
    "from sklearn.linear_model import LinearRegression \n",
    "from sklearn.linear_model import Lasso\n",
    "from sklearn.svm import SVC"
   ]
  },
  {
   "cell_type": "code",
   "execution_count": 887,
   "id": "33b448f7",
   "metadata": {},
   "outputs": [
    {
     "data": {
      "text/html": [
       "<div>\n",
       "<style scoped>\n",
       "    .dataframe tbody tr th:only-of-type {\n",
       "        vertical-align: middle;\n",
       "    }\n",
       "\n",
       "    .dataframe tbody tr th {\n",
       "        vertical-align: top;\n",
       "    }\n",
       "\n",
       "    .dataframe thead th {\n",
       "        text-align: right;\n",
       "    }\n",
       "</style>\n",
       "<table border=\"1\" class=\"dataframe\">\n",
       "  <thead>\n",
       "    <tr style=\"text-align: right;\">\n",
       "      <th></th>\n",
       "      <th>gender</th>\n",
       "      <th>parents visit</th>\n",
       "      <th>parental level of education</th>\n",
       "      <th>restoration</th>\n",
       "      <th>test preparation course</th>\n",
       "      <th>score math</th>\n",
       "      <th>reading score</th>\n",
       "      <th>score bac</th>\n",
       "    </tr>\n",
       "  </thead>\n",
       "  <tbody>\n",
       "    <tr>\n",
       "      <th>0</th>\n",
       "      <td>female</td>\n",
       "      <td>group B</td>\n",
       "      <td>bachelor's degree</td>\n",
       "      <td>standard</td>\n",
       "      <td>none</td>\n",
       "      <td>72</td>\n",
       "      <td>72</td>\n",
       "      <td>74</td>\n",
       "    </tr>\n",
       "    <tr>\n",
       "      <th>1</th>\n",
       "      <td>female</td>\n",
       "      <td>group C</td>\n",
       "      <td>some college</td>\n",
       "      <td>standard</td>\n",
       "      <td>completed</td>\n",
       "      <td>69</td>\n",
       "      <td>90</td>\n",
       "      <td>88</td>\n",
       "    </tr>\n",
       "    <tr>\n",
       "      <th>2</th>\n",
       "      <td>female</td>\n",
       "      <td>group B</td>\n",
       "      <td>master's degree</td>\n",
       "      <td>standard</td>\n",
       "      <td>none</td>\n",
       "      <td>90</td>\n",
       "      <td>95</td>\n",
       "      <td>93</td>\n",
       "    </tr>\n",
       "    <tr>\n",
       "      <th>3</th>\n",
       "      <td>male</td>\n",
       "      <td>group A</td>\n",
       "      <td>associate's degree</td>\n",
       "      <td>free/reduced</td>\n",
       "      <td>none</td>\n",
       "      <td>47</td>\n",
       "      <td>57</td>\n",
       "      <td>44</td>\n",
       "    </tr>\n",
       "    <tr>\n",
       "      <th>4</th>\n",
       "      <td>male</td>\n",
       "      <td>group C</td>\n",
       "      <td>some college</td>\n",
       "      <td>standard</td>\n",
       "      <td>none</td>\n",
       "      <td>76</td>\n",
       "      <td>78</td>\n",
       "      <td>75</td>\n",
       "    </tr>\n",
       "  </tbody>\n",
       "</table>\n",
       "</div>"
      ],
      "text/plain": [
       "   gender parents visit parental level of education   restoration  \\\n",
       "0  female       group B           bachelor's degree      standard   \n",
       "1  female       group C                some college      standard   \n",
       "2  female       group B             master's degree      standard   \n",
       "3    male       group A          associate's degree  free/reduced   \n",
       "4    male       group C                some college      standard   \n",
       "\n",
       "  test preparation course  score math  reading score  score bac  \n",
       "0                    none          72             72         74  \n",
       "1               completed          69             90         88  \n",
       "2                    none          90             95         93  \n",
       "3                    none          47             57         44  \n",
       "4                    none          76             78         75  "
      ]
     },
     "execution_count": 887,
     "metadata": {},
     "output_type": "execute_result"
    }
   ],
   "source": [
    "Data = pd.read_csv('P.csv')\n",
    "Data.head()"
   ]
  },
  {
   "cell_type": "code",
   "execution_count": 888,
   "id": "c7aacbd9",
   "metadata": {},
   "outputs": [],
   "source": [
    "Data = Data.dropna()"
   ]
  },
  {
   "cell_type": "code",
   "execution_count": null,
   "id": "dfde8ae2",
   "metadata": {},
   "outputs": [],
   "source": []
  },
  {
   "cell_type": "code",
   "execution_count": null,
   "id": "187c6580",
   "metadata": {},
   "outputs": [],
   "source": []
  },
  {
   "cell_type": "code",
   "execution_count": null,
   "id": "d07c43dd",
   "metadata": {},
   "outputs": [],
   "source": []
  },
  {
   "cell_type": "code",
   "execution_count": 889,
   "id": "d651fa57",
   "metadata": {},
   "outputs": [
    {
     "data": {
      "text/html": [
       "<div>\n",
       "<style scoped>\n",
       "    .dataframe tbody tr th:only-of-type {\n",
       "        vertical-align: middle;\n",
       "    }\n",
       "\n",
       "    .dataframe tbody tr th {\n",
       "        vertical-align: top;\n",
       "    }\n",
       "\n",
       "    .dataframe thead th {\n",
       "        text-align: right;\n",
       "    }\n",
       "</style>\n",
       "<table border=\"1\" class=\"dataframe\">\n",
       "  <thead>\n",
       "    <tr style=\"text-align: right;\">\n",
       "      <th></th>\n",
       "      <th>gender</th>\n",
       "      <th>parents visit</th>\n",
       "      <th>parental level of education</th>\n",
       "      <th>restoration</th>\n",
       "      <th>test preparation course</th>\n",
       "      <th>score math</th>\n",
       "      <th>reading score</th>\n",
       "      <th>score bac</th>\n",
       "    </tr>\n",
       "  </thead>\n",
       "  <tbody>\n",
       "    <tr>\n",
       "      <th>0</th>\n",
       "      <td>female</td>\n",
       "      <td>group B</td>\n",
       "      <td>bachelor's degree</td>\n",
       "      <td>standard</td>\n",
       "      <td>none</td>\n",
       "      <td>72</td>\n",
       "      <td>72</td>\n",
       "      <td>74</td>\n",
       "    </tr>\n",
       "    <tr>\n",
       "      <th>1</th>\n",
       "      <td>female</td>\n",
       "      <td>group C</td>\n",
       "      <td>some college</td>\n",
       "      <td>standard</td>\n",
       "      <td>completed</td>\n",
       "      <td>69</td>\n",
       "      <td>90</td>\n",
       "      <td>88</td>\n",
       "    </tr>\n",
       "    <tr>\n",
       "      <th>2</th>\n",
       "      <td>female</td>\n",
       "      <td>group B</td>\n",
       "      <td>master's degree</td>\n",
       "      <td>standard</td>\n",
       "      <td>none</td>\n",
       "      <td>90</td>\n",
       "      <td>95</td>\n",
       "      <td>93</td>\n",
       "    </tr>\n",
       "    <tr>\n",
       "      <th>3</th>\n",
       "      <td>male</td>\n",
       "      <td>group A</td>\n",
       "      <td>associate's degree</td>\n",
       "      <td>free/reduced</td>\n",
       "      <td>none</td>\n",
       "      <td>47</td>\n",
       "      <td>57</td>\n",
       "      <td>44</td>\n",
       "    </tr>\n",
       "    <tr>\n",
       "      <th>4</th>\n",
       "      <td>male</td>\n",
       "      <td>group C</td>\n",
       "      <td>some college</td>\n",
       "      <td>standard</td>\n",
       "      <td>none</td>\n",
       "      <td>76</td>\n",
       "      <td>78</td>\n",
       "      <td>75</td>\n",
       "    </tr>\n",
       "    <tr>\n",
       "      <th>...</th>\n",
       "      <td>...</td>\n",
       "      <td>...</td>\n",
       "      <td>...</td>\n",
       "      <td>...</td>\n",
       "      <td>...</td>\n",
       "      <td>...</td>\n",
       "      <td>...</td>\n",
       "      <td>...</td>\n",
       "    </tr>\n",
       "    <tr>\n",
       "      <th>995</th>\n",
       "      <td>female</td>\n",
       "      <td>group E</td>\n",
       "      <td>master's degree</td>\n",
       "      <td>standard</td>\n",
       "      <td>completed</td>\n",
       "      <td>88</td>\n",
       "      <td>99</td>\n",
       "      <td>95</td>\n",
       "    </tr>\n",
       "    <tr>\n",
       "      <th>996</th>\n",
       "      <td>male</td>\n",
       "      <td>group C</td>\n",
       "      <td>high school</td>\n",
       "      <td>free/reduced</td>\n",
       "      <td>none</td>\n",
       "      <td>62</td>\n",
       "      <td>55</td>\n",
       "      <td>55</td>\n",
       "    </tr>\n",
       "    <tr>\n",
       "      <th>997</th>\n",
       "      <td>female</td>\n",
       "      <td>group C</td>\n",
       "      <td>high school</td>\n",
       "      <td>free/reduced</td>\n",
       "      <td>completed</td>\n",
       "      <td>59</td>\n",
       "      <td>71</td>\n",
       "      <td>65</td>\n",
       "    </tr>\n",
       "    <tr>\n",
       "      <th>998</th>\n",
       "      <td>female</td>\n",
       "      <td>group D</td>\n",
       "      <td>some college</td>\n",
       "      <td>standard</td>\n",
       "      <td>completed</td>\n",
       "      <td>68</td>\n",
       "      <td>78</td>\n",
       "      <td>77</td>\n",
       "    </tr>\n",
       "    <tr>\n",
       "      <th>999</th>\n",
       "      <td>female</td>\n",
       "      <td>group D</td>\n",
       "      <td>some college</td>\n",
       "      <td>free/reduced</td>\n",
       "      <td>none</td>\n",
       "      <td>77</td>\n",
       "      <td>86</td>\n",
       "      <td>86</td>\n",
       "    </tr>\n",
       "  </tbody>\n",
       "</table>\n",
       "<p>1000 rows × 8 columns</p>\n",
       "</div>"
      ],
      "text/plain": [
       "     gender parents visit parental level of education   restoration  \\\n",
       "0    female       group B           bachelor's degree      standard   \n",
       "1    female       group C                some college      standard   \n",
       "2    female       group B             master's degree      standard   \n",
       "3      male       group A          associate's degree  free/reduced   \n",
       "4      male       group C                some college      standard   \n",
       "..      ...           ...                         ...           ...   \n",
       "995  female       group E             master's degree      standard   \n",
       "996    male       group C                 high school  free/reduced   \n",
       "997  female       group C                 high school  free/reduced   \n",
       "998  female       group D                some college      standard   \n",
       "999  female       group D                some college  free/reduced   \n",
       "\n",
       "    test preparation course  score math  reading score  score bac  \n",
       "0                      none          72             72         74  \n",
       "1                 completed          69             90         88  \n",
       "2                      none          90             95         93  \n",
       "3                      none          47             57         44  \n",
       "4                      none          76             78         75  \n",
       "..                      ...         ...            ...        ...  \n",
       "995               completed          88             99         95  \n",
       "996                    none          62             55         55  \n",
       "997               completed          59             71         65  \n",
       "998               completed          68             78         77  \n",
       "999                    none          77             86         86  \n",
       "\n",
       "[1000 rows x 8 columns]"
      ]
     },
     "execution_count": 889,
     "metadata": {},
     "output_type": "execute_result"
    }
   ],
   "source": [
    "Data"
   ]
  },
  {
   "cell_type": "code",
   "execution_count": 890,
   "id": "a21aa125",
   "metadata": {},
   "outputs": [
    {
     "data": {
      "text/html": [
       "<div>\n",
       "<style scoped>\n",
       "    .dataframe tbody tr th:only-of-type {\n",
       "        vertical-align: middle;\n",
       "    }\n",
       "\n",
       "    .dataframe tbody tr th {\n",
       "        vertical-align: top;\n",
       "    }\n",
       "\n",
       "    .dataframe thead th {\n",
       "        text-align: right;\n",
       "    }\n",
       "</style>\n",
       "<table border=\"1\" class=\"dataframe\">\n",
       "  <thead>\n",
       "    <tr style=\"text-align: right;\">\n",
       "      <th></th>\n",
       "      <th>gender</th>\n",
       "      <th>parental level of education</th>\n",
       "      <th>restoration</th>\n",
       "      <th>test preparation course</th>\n",
       "      <th>score math</th>\n",
       "      <th>score bac</th>\n",
       "    </tr>\n",
       "  </thead>\n",
       "  <tbody>\n",
       "    <tr>\n",
       "      <th>0</th>\n",
       "      <td>female</td>\n",
       "      <td>bachelor's degree</td>\n",
       "      <td>standard</td>\n",
       "      <td>none</td>\n",
       "      <td>72</td>\n",
       "      <td>74</td>\n",
       "    </tr>\n",
       "    <tr>\n",
       "      <th>1</th>\n",
       "      <td>female</td>\n",
       "      <td>some college</td>\n",
       "      <td>standard</td>\n",
       "      <td>completed</td>\n",
       "      <td>69</td>\n",
       "      <td>88</td>\n",
       "    </tr>\n",
       "    <tr>\n",
       "      <th>2</th>\n",
       "      <td>female</td>\n",
       "      <td>master's degree</td>\n",
       "      <td>standard</td>\n",
       "      <td>none</td>\n",
       "      <td>90</td>\n",
       "      <td>93</td>\n",
       "    </tr>\n",
       "    <tr>\n",
       "      <th>3</th>\n",
       "      <td>male</td>\n",
       "      <td>associate's degree</td>\n",
       "      <td>free/reduced</td>\n",
       "      <td>none</td>\n",
       "      <td>47</td>\n",
       "      <td>44</td>\n",
       "    </tr>\n",
       "    <tr>\n",
       "      <th>4</th>\n",
       "      <td>male</td>\n",
       "      <td>some college</td>\n",
       "      <td>standard</td>\n",
       "      <td>none</td>\n",
       "      <td>76</td>\n",
       "      <td>75</td>\n",
       "    </tr>\n",
       "    <tr>\n",
       "      <th>...</th>\n",
       "      <td>...</td>\n",
       "      <td>...</td>\n",
       "      <td>...</td>\n",
       "      <td>...</td>\n",
       "      <td>...</td>\n",
       "      <td>...</td>\n",
       "    </tr>\n",
       "    <tr>\n",
       "      <th>995</th>\n",
       "      <td>female</td>\n",
       "      <td>master's degree</td>\n",
       "      <td>standard</td>\n",
       "      <td>completed</td>\n",
       "      <td>88</td>\n",
       "      <td>95</td>\n",
       "    </tr>\n",
       "    <tr>\n",
       "      <th>996</th>\n",
       "      <td>male</td>\n",
       "      <td>high school</td>\n",
       "      <td>free/reduced</td>\n",
       "      <td>none</td>\n",
       "      <td>62</td>\n",
       "      <td>55</td>\n",
       "    </tr>\n",
       "    <tr>\n",
       "      <th>997</th>\n",
       "      <td>female</td>\n",
       "      <td>high school</td>\n",
       "      <td>free/reduced</td>\n",
       "      <td>completed</td>\n",
       "      <td>59</td>\n",
       "      <td>65</td>\n",
       "    </tr>\n",
       "    <tr>\n",
       "      <th>998</th>\n",
       "      <td>female</td>\n",
       "      <td>some college</td>\n",
       "      <td>standard</td>\n",
       "      <td>completed</td>\n",
       "      <td>68</td>\n",
       "      <td>77</td>\n",
       "    </tr>\n",
       "    <tr>\n",
       "      <th>999</th>\n",
       "      <td>female</td>\n",
       "      <td>some college</td>\n",
       "      <td>free/reduced</td>\n",
       "      <td>none</td>\n",
       "      <td>77</td>\n",
       "      <td>86</td>\n",
       "    </tr>\n",
       "  </tbody>\n",
       "</table>\n",
       "<p>1000 rows × 6 columns</p>\n",
       "</div>"
      ],
      "text/plain": [
       "     gender parental level of education   restoration test preparation course  \\\n",
       "0    female           bachelor's degree      standard                    none   \n",
       "1    female                some college      standard               completed   \n",
       "2    female             master's degree      standard                    none   \n",
       "3      male          associate's degree  free/reduced                    none   \n",
       "4      male                some college      standard                    none   \n",
       "..      ...                         ...           ...                     ...   \n",
       "995  female             master's degree      standard               completed   \n",
       "996    male                 high school  free/reduced                    none   \n",
       "997  female                 high school  free/reduced               completed   \n",
       "998  female                some college      standard               completed   \n",
       "999  female                some college  free/reduced                    none   \n",
       "\n",
       "     score math  score bac  \n",
       "0            72         74  \n",
       "1            69         88  \n",
       "2            90         93  \n",
       "3            47         44  \n",
       "4            76         75  \n",
       "..          ...        ...  \n",
       "995          88         95  \n",
       "996          62         55  \n",
       "997          59         65  \n",
       "998          68         77  \n",
       "999          77         86  \n",
       "\n",
       "[1000 rows x 6 columns]"
      ]
     },
     "execution_count": 890,
     "metadata": {},
     "output_type": "execute_result"
    }
   ],
   "source": [
    "Data.drop(['reading score','parents visit'],  axis=1, inplace=True)\n",
    "Data"
   ]
  },
  {
   "cell_type": "code",
   "execution_count": 891,
   "id": "2f4c6e96",
   "metadata": {},
   "outputs": [
    {
     "name": "stdout",
     "output_type": "stream",
     "text": [
      "Index(['gender', 'parental_level', 'restoration', 'test_preparation',\n",
      "       'score_math', 'score_bac'],\n",
      "      dtype='object')\n"
     ]
    }
   ],
   "source": [
    "Data.columns = [each.split()[0] + \"_\" + each.split()[1] if (len(each.split()) > 1) else each for each in Data.columns ]\n",
    "print(Data.columns)"
   ]
  },
  {
   "cell_type": "code",
   "execution_count": 892,
   "id": "ea449122",
   "metadata": {},
   "outputs": [
    {
     "data": {
      "text/html": [
       "<div>\n",
       "<style scoped>\n",
       "    .dataframe tbody tr th:only-of-type {\n",
       "        vertical-align: middle;\n",
       "    }\n",
       "\n",
       "    .dataframe tbody tr th {\n",
       "        vertical-align: top;\n",
       "    }\n",
       "\n",
       "    .dataframe thead th {\n",
       "        text-align: right;\n",
       "    }\n",
       "</style>\n",
       "<table border=\"1\" class=\"dataframe\">\n",
       "  <thead>\n",
       "    <tr style=\"text-align: right;\">\n",
       "      <th></th>\n",
       "      <th>gender</th>\n",
       "      <th>parental_level</th>\n",
       "      <th>restoration</th>\n",
       "      <th>test_preparation</th>\n",
       "      <th>score_math</th>\n",
       "      <th>score_bac</th>\n",
       "    </tr>\n",
       "  </thead>\n",
       "  <tbody>\n",
       "    <tr>\n",
       "      <th>0</th>\n",
       "      <td>female</td>\n",
       "      <td>bachelor's degree</td>\n",
       "      <td>standard</td>\n",
       "      <td>none</td>\n",
       "      <td>72</td>\n",
       "      <td>74</td>\n",
       "    </tr>\n",
       "    <tr>\n",
       "      <th>1</th>\n",
       "      <td>female</td>\n",
       "      <td>some college</td>\n",
       "      <td>standard</td>\n",
       "      <td>completed</td>\n",
       "      <td>69</td>\n",
       "      <td>88</td>\n",
       "    </tr>\n",
       "    <tr>\n",
       "      <th>2</th>\n",
       "      <td>female</td>\n",
       "      <td>master's degree</td>\n",
       "      <td>standard</td>\n",
       "      <td>none</td>\n",
       "      <td>90</td>\n",
       "      <td>93</td>\n",
       "    </tr>\n",
       "    <tr>\n",
       "      <th>3</th>\n",
       "      <td>male</td>\n",
       "      <td>associate's degree</td>\n",
       "      <td>free/reduced</td>\n",
       "      <td>none</td>\n",
       "      <td>47</td>\n",
       "      <td>44</td>\n",
       "    </tr>\n",
       "    <tr>\n",
       "      <th>4</th>\n",
       "      <td>male</td>\n",
       "      <td>some college</td>\n",
       "      <td>standard</td>\n",
       "      <td>none</td>\n",
       "      <td>76</td>\n",
       "      <td>75</td>\n",
       "    </tr>\n",
       "    <tr>\n",
       "      <th>...</th>\n",
       "      <td>...</td>\n",
       "      <td>...</td>\n",
       "      <td>...</td>\n",
       "      <td>...</td>\n",
       "      <td>...</td>\n",
       "      <td>...</td>\n",
       "    </tr>\n",
       "    <tr>\n",
       "      <th>995</th>\n",
       "      <td>female</td>\n",
       "      <td>master's degree</td>\n",
       "      <td>standard</td>\n",
       "      <td>completed</td>\n",
       "      <td>88</td>\n",
       "      <td>95</td>\n",
       "    </tr>\n",
       "    <tr>\n",
       "      <th>996</th>\n",
       "      <td>male</td>\n",
       "      <td>high school</td>\n",
       "      <td>free/reduced</td>\n",
       "      <td>none</td>\n",
       "      <td>62</td>\n",
       "      <td>55</td>\n",
       "    </tr>\n",
       "    <tr>\n",
       "      <th>997</th>\n",
       "      <td>female</td>\n",
       "      <td>high school</td>\n",
       "      <td>free/reduced</td>\n",
       "      <td>completed</td>\n",
       "      <td>59</td>\n",
       "      <td>65</td>\n",
       "    </tr>\n",
       "    <tr>\n",
       "      <th>998</th>\n",
       "      <td>female</td>\n",
       "      <td>some college</td>\n",
       "      <td>standard</td>\n",
       "      <td>completed</td>\n",
       "      <td>68</td>\n",
       "      <td>77</td>\n",
       "    </tr>\n",
       "    <tr>\n",
       "      <th>999</th>\n",
       "      <td>female</td>\n",
       "      <td>some college</td>\n",
       "      <td>free/reduced</td>\n",
       "      <td>none</td>\n",
       "      <td>77</td>\n",
       "      <td>86</td>\n",
       "    </tr>\n",
       "  </tbody>\n",
       "</table>\n",
       "<p>1000 rows × 6 columns</p>\n",
       "</div>"
      ],
      "text/plain": [
       "     gender      parental_level   restoration test_preparation  score_math  \\\n",
       "0    female   bachelor's degree      standard             none          72   \n",
       "1    female        some college      standard        completed          69   \n",
       "2    female     master's degree      standard             none          90   \n",
       "3      male  associate's degree  free/reduced             none          47   \n",
       "4      male        some college      standard             none          76   \n",
       "..      ...                 ...           ...              ...         ...   \n",
       "995  female     master's degree      standard        completed          88   \n",
       "996    male         high school  free/reduced             none          62   \n",
       "997  female         high school  free/reduced        completed          59   \n",
       "998  female        some college      standard        completed          68   \n",
       "999  female        some college  free/reduced             none          77   \n",
       "\n",
       "     score_bac  \n",
       "0           74  \n",
       "1           88  \n",
       "2           93  \n",
       "3           44  \n",
       "4           75  \n",
       "..         ...  \n",
       "995         95  \n",
       "996         55  \n",
       "997         65  \n",
       "998         77  \n",
       "999         86  \n",
       "\n",
       "[1000 rows x 6 columns]"
      ]
     },
     "execution_count": 892,
     "metadata": {},
     "output_type": "execute_result"
    }
   ],
   "source": [
    "Data"
   ]
  },
  {
   "cell_type": "code",
   "execution_count": null,
   "id": "3ac4f9ac",
   "metadata": {},
   "outputs": [],
   "source": []
  },
  {
   "cell_type": "code",
   "execution_count": null,
   "id": "f7696e53",
   "metadata": {},
   "outputs": [],
   "source": [
    "\n"
   ]
  },
  {
   "cell_type": "code",
   "execution_count": null,
   "id": "d6197c19",
   "metadata": {},
   "outputs": [],
   "source": []
  },
  {
   "cell_type": "code",
   "execution_count": 893,
   "id": "35717e72",
   "metadata": {},
   "outputs": [
    {
     "data": {
      "text/html": [
       "<div>\n",
       "<style scoped>\n",
       "    .dataframe tbody tr th:only-of-type {\n",
       "        vertical-align: middle;\n",
       "    }\n",
       "\n",
       "    .dataframe tbody tr th {\n",
       "        vertical-align: top;\n",
       "    }\n",
       "\n",
       "    .dataframe thead th {\n",
       "        text-align: right;\n",
       "    }\n",
       "</style>\n",
       "<table border=\"1\" class=\"dataframe\">\n",
       "  <thead>\n",
       "    <tr style=\"text-align: right;\">\n",
       "      <th></th>\n",
       "      <th>gender</th>\n",
       "      <th>parental_level</th>\n",
       "      <th>restoration</th>\n",
       "      <th>test_preparation</th>\n",
       "      <th>score_math</th>\n",
       "      <th>score_bac</th>\n",
       "    </tr>\n",
       "  </thead>\n",
       "  <tbody>\n",
       "    <tr>\n",
       "      <th>0</th>\n",
       "      <td>female</td>\n",
       "      <td>bachelor's degree</td>\n",
       "      <td>standard</td>\n",
       "      <td>none</td>\n",
       "      <td>72</td>\n",
       "      <td>74</td>\n",
       "    </tr>\n",
       "    <tr>\n",
       "      <th>1</th>\n",
       "      <td>female</td>\n",
       "      <td>some college</td>\n",
       "      <td>standard</td>\n",
       "      <td>completed</td>\n",
       "      <td>69</td>\n",
       "      <td>88</td>\n",
       "    </tr>\n",
       "    <tr>\n",
       "      <th>2</th>\n",
       "      <td>female</td>\n",
       "      <td>master's degree</td>\n",
       "      <td>standard</td>\n",
       "      <td>none</td>\n",
       "      <td>90</td>\n",
       "      <td>93</td>\n",
       "    </tr>\n",
       "    <tr>\n",
       "      <th>3</th>\n",
       "      <td>male</td>\n",
       "      <td>associate's degree</td>\n",
       "      <td>free/reduced</td>\n",
       "      <td>none</td>\n",
       "      <td>47</td>\n",
       "      <td>44</td>\n",
       "    </tr>\n",
       "    <tr>\n",
       "      <th>4</th>\n",
       "      <td>male</td>\n",
       "      <td>some college</td>\n",
       "      <td>standard</td>\n",
       "      <td>none</td>\n",
       "      <td>76</td>\n",
       "      <td>75</td>\n",
       "    </tr>\n",
       "    <tr>\n",
       "      <th>...</th>\n",
       "      <td>...</td>\n",
       "      <td>...</td>\n",
       "      <td>...</td>\n",
       "      <td>...</td>\n",
       "      <td>...</td>\n",
       "      <td>...</td>\n",
       "    </tr>\n",
       "    <tr>\n",
       "      <th>995</th>\n",
       "      <td>female</td>\n",
       "      <td>master's degree</td>\n",
       "      <td>standard</td>\n",
       "      <td>completed</td>\n",
       "      <td>88</td>\n",
       "      <td>95</td>\n",
       "    </tr>\n",
       "    <tr>\n",
       "      <th>996</th>\n",
       "      <td>male</td>\n",
       "      <td>high school</td>\n",
       "      <td>free/reduced</td>\n",
       "      <td>none</td>\n",
       "      <td>62</td>\n",
       "      <td>55</td>\n",
       "    </tr>\n",
       "    <tr>\n",
       "      <th>997</th>\n",
       "      <td>female</td>\n",
       "      <td>high school</td>\n",
       "      <td>free/reduced</td>\n",
       "      <td>completed</td>\n",
       "      <td>59</td>\n",
       "      <td>65</td>\n",
       "    </tr>\n",
       "    <tr>\n",
       "      <th>998</th>\n",
       "      <td>female</td>\n",
       "      <td>some college</td>\n",
       "      <td>standard</td>\n",
       "      <td>completed</td>\n",
       "      <td>68</td>\n",
       "      <td>77</td>\n",
       "    </tr>\n",
       "    <tr>\n",
       "      <th>999</th>\n",
       "      <td>female</td>\n",
       "      <td>some college</td>\n",
       "      <td>free/reduced</td>\n",
       "      <td>none</td>\n",
       "      <td>77</td>\n",
       "      <td>86</td>\n",
       "    </tr>\n",
       "  </tbody>\n",
       "</table>\n",
       "<p>1000 rows × 6 columns</p>\n",
       "</div>"
      ],
      "text/plain": [
       "     gender      parental_level   restoration test_preparation  score_math  \\\n",
       "0    female   bachelor's degree      standard             none          72   \n",
       "1    female        some college      standard        completed          69   \n",
       "2    female     master's degree      standard             none          90   \n",
       "3      male  associate's degree  free/reduced             none          47   \n",
       "4      male        some college      standard             none          76   \n",
       "..      ...                 ...           ...              ...         ...   \n",
       "995  female     master's degree      standard        completed          88   \n",
       "996    male         high school  free/reduced             none          62   \n",
       "997  female         high school  free/reduced        completed          59   \n",
       "998  female        some college      standard        completed          68   \n",
       "999  female        some college  free/reduced             none          77   \n",
       "\n",
       "     score_bac  \n",
       "0           74  \n",
       "1           88  \n",
       "2           93  \n",
       "3           44  \n",
       "4           75  \n",
       "..         ...  \n",
       "995         95  \n",
       "996         55  \n",
       "997         65  \n",
       "998         77  \n",
       "999         86  \n",
       "\n",
       "[1000 rows x 6 columns]"
      ]
     },
     "execution_count": 893,
     "metadata": {},
     "output_type": "execute_result"
    }
   ],
   "source": [
    "Data"
   ]
  },
  {
   "cell_type": "code",
   "execution_count": 894,
   "id": "ec7d49c3",
   "metadata": {},
   "outputs": [
    {
     "data": {
      "text/plain": [
       "Text(0, 0.5, 'Score Bac')"
      ]
     },
     "execution_count": 894,
     "metadata": {},
     "output_type": "execute_result"
    },
    {
     "data": {
      "image/png": "[encoded data removed]",
      "text/plain": [
       "<Figure size 432x288 with 1 Axes>"
      ]
     },
     "metadata": {
      "needs_background": "light"
     },
     "output_type": "display_data"
    }
   ],
   "source": [
    "plt.scatter(Data.gender,Data.score_bac,marker='+',color='red')\n",
    "plt.ylabel('Score Bac')"
   ]
  },
  {
   "cell_type": "code",
   "execution_count": 895,
   "id": "30f37e3c",
   "metadata": {},
   "outputs": [
    {
     "data": {
      "text/plain": [
       "<matplotlib.collections.PathCollection at 0x1f0e7d3e820>"
      ]
     },
     "execution_count": 895,
     "metadata": {},
     "output_type": "execute_result"
    },
    {
     "data": {
      "image/png": "[encoded data removed]",
      "text/plain": [
       "<Figure size 432x288 with 1 Axes>"
      ]
     },
     "metadata": {
      "needs_background": "light"
     },
     "output_type": "display_data"
    }
   ],
   "source": [
    "plt.scatter(Data.parental_level,Data.score_bac,marker='+',color='red')"
   ]
  },
  {
   "cell_type": "code",
   "execution_count": 896,
   "id": "210dd0e2",
   "metadata": {},
   "outputs": [
    {
     "data": {
      "text/plain": [
       "Text(0, 0.5, 'Score Bac')"
      ]
     },
     "execution_count": 896,
     "metadata": {},
     "output_type": "execute_result"
    },
    {
     "data": {
      "image/png": "[encoded data removed]",
      "text/plain": [
       "<Figure size 432x288 with 1 Axes>"
      ]
     },
     "metadata": {
      "needs_background": "light"
     },
     "output_type": "display_data"
    }
   ],
   "source": [
    "plt.scatter(Data.restoration,Data.score_bac,marker='+',color='red')\n",
    "plt.ylabel('Score Bac')"
   ]
  },
  {
   "cell_type": "code",
   "execution_count": 897,
   "id": "b5afe624",
   "metadata": {},
   "outputs": [
    {
     "data": {
      "text/plain": [
       "Text(0, 0.5, 'Score Bac')"
      ]
     },
     "execution_count": 897,
     "metadata": {},
     "output_type": "execute_result"
    },
    {
     "data": {
      "image/png": "[encoded data removed]",
      "text/plain": [
       "<Figure size 432x288 with 1 Axes>"
      ]
     },
     "metadata": {
      "needs_background": "light"
     },
     "output_type": "display_data"
    }
   ],
   "source": [
    "plt.scatter(Data.test_preparation,Data.score_bac,marker='+',color='red')\n",
    "plt.ylabel('Score Bac')"
   ]
  },
  {
   "cell_type": "code",
   "execution_count": 898,
   "id": "c89f9a76",
   "metadata": {},
   "outputs": [
    {
     "data": {
      "text/plain": [
       "Text(0, 0.5, 'Score Bac')"
      ]
     },
     "execution_count": 898,
     "metadata": {},
     "output_type": "execute_result"
    },
    {
     "data": {
      "image/png": "[encoded data removed]",
      "text/plain": [
       "<Figure size 432x288 with 1 Axes>"
      ]
     },
     "metadata": {
      "needs_background": "light"
     },
     "output_type": "display_data"
    }
   ],
   "source": [
    "plt.scatter(Data.score_math,Data.score_bac,marker='+',color='red')\n",
    "plt.ylabel('Score Bac')"
   ]
  },
  {
   "cell_type": "code",
   "execution_count": null,
   "id": "1df99fea",
   "metadata": {},
   "outputs": [],
   "source": []
  },
  {
   "cell_type": "code",
   "execution_count": null,
   "id": "ae55b616",
   "metadata": {},
   "outputs": [],
   "source": []
  },
  {
   "cell_type": "code",
   "execution_count": null,
   "id": "50a3c867",
   "metadata": {},
   "outputs": [],
   "source": []
  },
  {
   "cell_type": "code",
   "execution_count": null,
   "id": "89df1d90",
   "metadata": {},
   "outputs": [],
   "source": []
  },
  {
   "cell_type": "code",
   "execution_count": null,
   "id": "20be97e2",
   "metadata": {},
   "outputs": [],
   "source": []
  },
  {
   "cell_type": "code",
   "execution_count": null,
   "id": "37e03fc5",
   "metadata": {},
   "outputs": [],
   "source": []
  },
  {
   "cell_type": "code",
   "execution_count": 899,
   "id": "41c8a4f5",
   "metadata": {},
   "outputs": [],
   "source": [
    "X = Data.iloc[:,:-1]\n",
    "Y = Data.iloc[:,-1]"
   ]
  },
  {
   "cell_type": "code",
   "execution_count": 900,
   "id": "b5fd9c92",
   "metadata": {},
   "outputs": [
    {
     "data": {
      "text/html": [
       "<div>\n",
       "<style scoped>\n",
       "    .dataframe tbody tr th:only-of-type {\n",
       "        vertical-align: middle;\n",
       "    }\n",
       "\n",
       "    .dataframe tbody tr th {\n",
       "        vertical-align: top;\n",
       "    }\n",
       "\n",
       "    .dataframe thead th {\n",
       "        text-align: right;\n",
       "    }\n",
       "</style>\n",
       "<table border=\"1\" class=\"dataframe\">\n",
       "  <thead>\n",
       "    <tr style=\"text-align: right;\">\n",
       "      <th></th>\n",
       "      <th>gender</th>\n",
       "      <th>parental_level</th>\n",
       "      <th>restoration</th>\n",
       "      <th>test_preparation</th>\n",
       "      <th>score_math</th>\n",
       "    </tr>\n",
       "  </thead>\n",
       "  <tbody>\n",
       "    <tr>\n",
       "      <th>0</th>\n",
       "      <td>female</td>\n",
       "      <td>bachelor's degree</td>\n",
       "      <td>standard</td>\n",
       "      <td>none</td>\n",
       "      <td>72</td>\n",
       "    </tr>\n",
       "    <tr>\n",
       "      <th>1</th>\n",
       "      <td>female</td>\n",
       "      <td>some college</td>\n",
       "      <td>standard</td>\n",
       "      <td>completed</td>\n",
       "      <td>69</td>\n",
       "    </tr>\n",
       "    <tr>\n",
       "      <th>2</th>\n",
       "      <td>female</td>\n",
       "      <td>master's degree</td>\n",
       "      <td>standard</td>\n",
       "      <td>none</td>\n",
       "      <td>90</td>\n",
       "    </tr>\n",
       "    <tr>\n",
       "      <th>3</th>\n",
       "      <td>male</td>\n",
       "      <td>associate's degree</td>\n",
       "      <td>free/reduced</td>\n",
       "      <td>none</td>\n",
       "      <td>47</td>\n",
       "    </tr>\n",
       "    <tr>\n",
       "      <th>4</th>\n",
       "      <td>male</td>\n",
       "      <td>some college</td>\n",
       "      <td>standard</td>\n",
       "      <td>none</td>\n",
       "      <td>76</td>\n",
       "    </tr>\n",
       "    <tr>\n",
       "      <th>...</th>\n",
       "      <td>...</td>\n",
       "      <td>...</td>\n",
       "      <td>...</td>\n",
       "      <td>...</td>\n",
       "      <td>...</td>\n",
       "    </tr>\n",
       "    <tr>\n",
       "      <th>995</th>\n",
       "      <td>female</td>\n",
       "      <td>master's degree</td>\n",
       "      <td>standard</td>\n",
       "      <td>completed</td>\n",
       "      <td>88</td>\n",
       "    </tr>\n",
       "    <tr>\n",
       "      <th>996</th>\n",
       "      <td>male</td>\n",
       "      <td>high school</td>\n",
       "      <td>free/reduced</td>\n",
       "      <td>none</td>\n",
       "      <td>62</td>\n",
       "    </tr>\n",
       "    <tr>\n",
       "      <th>997</th>\n",
       "      <td>female</td>\n",
       "      <td>high school</td>\n",
       "      <td>free/reduced</td>\n",
       "      <td>completed</td>\n",
       "      <td>59</td>\n",
       "    </tr>\n",
       "    <tr>\n",
       "      <th>998</th>\n",
       "      <td>female</td>\n",
       "      <td>some college</td>\n",
       "      <td>standard</td>\n",
       "      <td>completed</td>\n",
       "      <td>68</td>\n",
       "    </tr>\n",
       "    <tr>\n",
       "      <th>999</th>\n",
       "      <td>female</td>\n",
       "      <td>some college</td>\n",
       "      <td>free/reduced</td>\n",
       "      <td>none</td>\n",
       "      <td>77</td>\n",
       "    </tr>\n",
       "  </tbody>\n",
       "</table>\n",
       "<p>1000 rows × 5 columns</p>\n",
       "</div>"
      ],
      "text/plain": [
       "     gender      parental_level   restoration test_preparation  score_math\n",
       "0    female   bachelor's degree      standard             none          72\n",
       "1    female        some college      standard        completed          69\n",
       "2    female     master's degree      standard             none          90\n",
       "3      male  associate's degree  free/reduced             none          47\n",
       "4      male        some college      standard             none          76\n",
       "..      ...                 ...           ...              ...         ...\n",
       "995  female     master's degree      standard        completed          88\n",
       "996    male         high school  free/reduced             none          62\n",
       "997  female         high school  free/reduced        completed          59\n",
       "998  female        some college      standard        completed          68\n",
       "999  female        some college  free/reduced             none          77\n",
       "\n",
       "[1000 rows x 5 columns]"
      ]
     },
     "execution_count": 900,
     "metadata": {},
     "output_type": "execute_result"
    }
   ],
   "source": [
    "X"
   ]
  },
  {
   "cell_type": "code",
   "execution_count": 901,
   "id": "622e0ba9",
   "metadata": {},
   "outputs": [
    {
     "data": {
      "text/plain": [
       "0      74\n",
       "1      88\n",
       "2      93\n",
       "3      44\n",
       "4      75\n",
       "       ..\n",
       "995    95\n",
       "996    55\n",
       "997    65\n",
       "998    77\n",
       "999    86\n",
       "Name: score_bac, Length: 1000, dtype: int64"
      ]
     },
     "execution_count": 901,
     "metadata": {},
     "output_type": "execute_result"
    }
   ],
   "source": [
    "Y"
   ]
  },
  {
   "cell_type": "code",
   "execution_count": 902,
   "id": "05212f07",
   "metadata": {},
   "outputs": [
    {
     "name": "stdout",
     "output_type": "stream",
     "text": [
      "Index(['gender', 'parental_level', 'restoration', 'test_preparation',\n",
      "       'score_math', 'score_bac'],\n",
      "      dtype='object')\n"
     ]
    }
   ],
   "source": [
    "Data.columns = [each.split()[0] + \"_\" + each.split()[1] if (len(each.split()) > 1) else each for each in Data.columns ]\n",
    "print(Data.columns)"
   ]
  },
  {
   "cell_type": "code",
   "execution_count": 903,
   "id": "ed03943d",
   "metadata": {},
   "outputs": [
    {
     "data": {
      "text/html": [
       "<div>\n",
       "<style scoped>\n",
       "    .dataframe tbody tr th:only-of-type {\n",
       "        vertical-align: middle;\n",
       "    }\n",
       "\n",
       "    .dataframe tbody tr th {\n",
       "        vertical-align: top;\n",
       "    }\n",
       "\n",
       "    .dataframe thead th {\n",
       "        text-align: right;\n",
       "    }\n",
       "</style>\n",
       "<table border=\"1\" class=\"dataframe\">\n",
       "  <thead>\n",
       "    <tr style=\"text-align: right;\">\n",
       "      <th></th>\n",
       "      <th>gender</th>\n",
       "      <th>parental_level</th>\n",
       "      <th>restoration</th>\n",
       "      <th>test_preparation</th>\n",
       "      <th>score_math</th>\n",
       "      <th>score_bac</th>\n",
       "    </tr>\n",
       "  </thead>\n",
       "  <tbody>\n",
       "    <tr>\n",
       "      <th>0</th>\n",
       "      <td>female</td>\n",
       "      <td>bachelor's degree</td>\n",
       "      <td>standard</td>\n",
       "      <td>none</td>\n",
       "      <td>72</td>\n",
       "      <td>74</td>\n",
       "    </tr>\n",
       "    <tr>\n",
       "      <th>1</th>\n",
       "      <td>female</td>\n",
       "      <td>some college</td>\n",
       "      <td>standard</td>\n",
       "      <td>completed</td>\n",
       "      <td>69</td>\n",
       "      <td>88</td>\n",
       "    </tr>\n",
       "    <tr>\n",
       "      <th>2</th>\n",
       "      <td>female</td>\n",
       "      <td>master's degree</td>\n",
       "      <td>standard</td>\n",
       "      <td>none</td>\n",
       "      <td>90</td>\n",
       "      <td>93</td>\n",
       "    </tr>\n",
       "    <tr>\n",
       "      <th>3</th>\n",
       "      <td>male</td>\n",
       "      <td>associate's degree</td>\n",
       "      <td>free/reduced</td>\n",
       "      <td>none</td>\n",
       "      <td>47</td>\n",
       "      <td>44</td>\n",
       "    </tr>\n",
       "    <tr>\n",
       "      <th>4</th>\n",
       "      <td>male</td>\n",
       "      <td>some college</td>\n",
       "      <td>standard</td>\n",
       "      <td>none</td>\n",
       "      <td>76</td>\n",
       "      <td>75</td>\n",
       "    </tr>\n",
       "  </tbody>\n",
       "</table>\n",
       "</div>"
      ],
      "text/plain": [
       "   gender      parental_level   restoration test_preparation  score_math  \\\n",
       "0  female   bachelor's degree      standard             none          72   \n",
       "1  female        some college      standard        completed          69   \n",
       "2  female     master's degree      standard             none          90   \n",
       "3    male  associate's degree  free/reduced             none          47   \n",
       "4    male        some college      standard             none          76   \n",
       "\n",
       "   score_bac  \n",
       "0         74  \n",
       "1         88  \n",
       "2         93  \n",
       "3         44  \n",
       "4         75  "
      ]
     },
     "execution_count": 903,
     "metadata": {},
     "output_type": "execute_result"
    }
   ],
   "source": [
    "Data.head()"
   ]
  },
  {
   "cell_type": "code",
   "execution_count": 904,
   "id": "f7675b4d",
   "metadata": {},
   "outputs": [],
   "source": [
    "X['gender'].replace( 'female', 0 ,inplace=True)\n",
    "X['gender'].replace( 'male', 1 ,inplace=True)\n",
    "# from sklearn.preprocessing import LabelEncoder\n",
    "# le = LabelEncoder()"
   ]
  },
  {
   "cell_type": "code",
   "execution_count": 905,
   "id": "e223f10f",
   "metadata": {},
   "outputs": [],
   "source": [
    "# dfle = Data\n",
    "# dfle.gender = le.fit_transform(dfle.gender)\n",
    "# # dfle.race/ethnicity = le.fit_transform(dfle.race/ethnicity)\n",
    "# # dfle.parental_level = le.fit_transform(parental_level)\n",
    "# # dfle.lunch = le.fit_transform(lunch)\n",
    "# # dfle.test_preparation = le.fit_transform(test_preparation)\n",
    "# dfle"
   ]
  },
  {
   "cell_type": "code",
   "execution_count": null,
   "id": "d5976ba5",
   "metadata": {},
   "outputs": [],
   "source": []
  },
  {
   "cell_type": "code",
   "execution_count": 906,
   "id": "99d25ee3",
   "metadata": {},
   "outputs": [],
   "source": [
    "X['test_preparation'].replace( 'none', 0 ,inplace=True)\n",
    "X['test_preparation'].replace( 'completed', 1 ,inplace=True)"
   ]
  },
  {
   "cell_type": "code",
   "execution_count": 907,
   "id": "1ed383e9",
   "metadata": {},
   "outputs": [],
   "source": [
    "X['parental_level'].replace( 'bachelor\\'s degree', 1 ,inplace=True)\n",
    "X['parental_level'].replace( 'some college', 2 ,inplace=True)\n",
    "X['parental_level'].replace( 'master\\'s degree', 3 ,inplace=True)\n",
    "X['parental_level'].replace( 'associate\\'s degree', 4 ,inplace=True)\n",
    "X['parental_level'].replace( 'high school', 5 ,inplace=True)\n",
    "X['parental_level'].replace( 'some high school', 6 ,inplace=True)"
   ]
  },
  {
   "cell_type": "code",
   "execution_count": 908,
   "id": "c3bd3d4e",
   "metadata": {},
   "outputs": [],
   "source": [
    "# X['parents visit'].unique()"
   ]
  },
  {
   "cell_type": "code",
   "execution_count": 909,
   "id": "8bf382bd",
   "metadata": {},
   "outputs": [],
   "source": [
    "# X['parents visit'].replace( 'group A', 1 ,inplace=True)\n",
    "# X['parents visit'].replace( 'group B', 2 ,inplace=True)\n",
    "# X['parents visit'].replace( 'group C', 3 ,inplace=True)\n",
    "# X['parents visit'].replace( 'group D', 4 ,inplace=True)\n",
    "# X['parents visit'].replace( 'group E', 5 ,inplace=True)"
   ]
  },
  {
   "cell_type": "code",
   "execution_count": 910,
   "id": "938e2ab1",
   "metadata": {},
   "outputs": [
    {
     "data": {
      "text/plain": [
       "array(['standard', 'free/reduced'], dtype=object)"
      ]
     },
     "execution_count": 910,
     "metadata": {},
     "output_type": "execute_result"
    }
   ],
   "source": [
    "X['restoration'].unique()"
   ]
  },
  {
   "cell_type": "code",
   "execution_count": 911,
   "id": "a7f8bccc",
   "metadata": {},
   "outputs": [],
   "source": [
    "X['restoration'].replace( 'standard', 0 ,inplace=True)\n",
    "X['restoration'].replace( 'free/reduced', 1 ,inplace=True)"
   ]
  },
  {
   "cell_type": "code",
   "execution_count": 912,
   "id": "874930bb",
   "metadata": {
    "scrolled": true
   },
   "outputs": [
    {
     "data": {
      "text/html": [
       "<div>\n",
       "<style scoped>\n",
       "    .dataframe tbody tr th:only-of-type {\n",
       "        vertical-align: middle;\n",
       "    }\n",
       "\n",
       "    .dataframe tbody tr th {\n",
       "        vertical-align: top;\n",
       "    }\n",
       "\n",
       "    .dataframe thead th {\n",
       "        text-align: right;\n",
       "    }\n",
       "</style>\n",
       "<table border=\"1\" class=\"dataframe\">\n",
       "  <thead>\n",
       "    <tr style=\"text-align: right;\">\n",
       "      <th></th>\n",
       "      <th>gender</th>\n",
       "      <th>parental_level</th>\n",
       "      <th>restoration</th>\n",
       "      <th>test_preparation</th>\n",
       "      <th>score_math</th>\n",
       "    </tr>\n",
       "  </thead>\n",
       "  <tbody>\n",
       "    <tr>\n",
       "      <th>0</th>\n",
       "      <td>0</td>\n",
       "      <td>1</td>\n",
       "      <td>0</td>\n",
       "      <td>0</td>\n",
       "      <td>72</td>\n",
       "    </tr>\n",
       "    <tr>\n",
       "      <th>1</th>\n",
       "      <td>0</td>\n",
       "      <td>2</td>\n",
       "      <td>0</td>\n",
       "      <td>1</td>\n",
       "      <td>69</td>\n",
       "    </tr>\n",
       "    <tr>\n",
       "      <th>2</th>\n",
       "      <td>0</td>\n",
       "      <td>3</td>\n",
       "      <td>0</td>\n",
       "      <td>0</td>\n",
       "      <td>90</td>\n",
       "    </tr>\n",
       "    <tr>\n",
       "      <th>3</th>\n",
       "      <td>1</td>\n",
       "      <td>4</td>\n",
       "      <td>1</td>\n",
       "      <td>0</td>\n",
       "      <td>47</td>\n",
       "    </tr>\n",
       "    <tr>\n",
       "      <th>4</th>\n",
       "      <td>1</td>\n",
       "      <td>2</td>\n",
       "      <td>0</td>\n",
       "      <td>0</td>\n",
       "      <td>76</td>\n",
       "    </tr>\n",
       "    <tr>\n",
       "      <th>...</th>\n",
       "      <td>...</td>\n",
       "      <td>...</td>\n",
       "      <td>...</td>\n",
       "      <td>...</td>\n",
       "      <td>...</td>\n",
       "    </tr>\n",
       "    <tr>\n",
       "      <th>995</th>\n",
       "      <td>0</td>\n",
       "      <td>3</td>\n",
       "      <td>0</td>\n",
       "      <td>1</td>\n",
       "      <td>88</td>\n",
       "    </tr>\n",
       "    <tr>\n",
       "      <th>996</th>\n",
       "      <td>1</td>\n",
       "      <td>5</td>\n",
       "      <td>1</td>\n",
       "      <td>0</td>\n",
       "      <td>62</td>\n",
       "    </tr>\n",
       "    <tr>\n",
       "      <th>997</th>\n",
       "      <td>0</td>\n",
       "      <td>5</td>\n",
       "      <td>1</td>\n",
       "      <td>1</td>\n",
       "      <td>59</td>\n",
       "    </tr>\n",
       "    <tr>\n",
       "      <th>998</th>\n",
       "      <td>0</td>\n",
       "      <td>2</td>\n",
       "      <td>0</td>\n",
       "      <td>1</td>\n",
       "      <td>68</td>\n",
       "    </tr>\n",
       "    <tr>\n",
       "      <th>999</th>\n",
       "      <td>0</td>\n",
       "      <td>2</td>\n",
       "      <td>1</td>\n",
       "      <td>0</td>\n",
       "      <td>77</td>\n",
       "    </tr>\n",
       "  </tbody>\n",
       "</table>\n",
       "<p>1000 rows × 5 columns</p>\n",
       "</div>"
      ],
      "text/plain": [
       "     gender  parental_level  restoration  test_preparation  score_math\n",
       "0         0               1            0                 0          72\n",
       "1         0               2            0                 1          69\n",
       "2         0               3            0                 0          90\n",
       "3         1               4            1                 0          47\n",
       "4         1               2            0                 0          76\n",
       "..      ...             ...          ...               ...         ...\n",
       "995       0               3            0                 1          88\n",
       "996       1               5            1                 0          62\n",
       "997       0               5            1                 1          59\n",
       "998       0               2            0                 1          68\n",
       "999       0               2            1                 0          77\n",
       "\n",
       "[1000 rows x 5 columns]"
      ]
     },
     "execution_count": 912,
     "metadata": {},
     "output_type": "execute_result"
    }
   ],
   "source": [
    "X"
   ]
  },
  {
   "cell_type": "code",
   "execution_count": 913,
   "id": "902d5a25",
   "metadata": {},
   "outputs": [],
   "source": [
    "X_train,X_test,Y_train,Y_test=train_test_split(X,Y,test_size=0.2)"
   ]
  },
  {
   "cell_type": "code",
   "execution_count": 914,
   "id": "70926fe9",
   "metadata": {},
   "outputs": [
    {
     "data": {
      "text/html": [
       "<div>\n",
       "<style scoped>\n",
       "    .dataframe tbody tr th:only-of-type {\n",
       "        vertical-align: middle;\n",
       "    }\n",
       "\n",
       "    .dataframe tbody tr th {\n",
       "        vertical-align: top;\n",
       "    }\n",
       "\n",
       "    .dataframe thead th {\n",
       "        text-align: right;\n",
       "    }\n",
       "</style>\n",
       "<table border=\"1\" class=\"dataframe\">\n",
       "  <thead>\n",
       "    <tr style=\"text-align: right;\">\n",
       "      <th></th>\n",
       "      <th>gender</th>\n",
       "      <th>parental_level</th>\n",
       "      <th>restoration</th>\n",
       "      <th>test_preparation</th>\n",
       "      <th>score_math</th>\n",
       "    </tr>\n",
       "  </thead>\n",
       "  <tbody>\n",
       "    <tr>\n",
       "      <th>924</th>\n",
       "      <td>1</td>\n",
       "      <td>5</td>\n",
       "      <td>1</td>\n",
       "      <td>0</td>\n",
       "      <td>74</td>\n",
       "    </tr>\n",
       "    <tr>\n",
       "      <th>561</th>\n",
       "      <td>0</td>\n",
       "      <td>2</td>\n",
       "      <td>0</td>\n",
       "      <td>0</td>\n",
       "      <td>63</td>\n",
       "    </tr>\n",
       "    <tr>\n",
       "      <th>273</th>\n",
       "      <td>0</td>\n",
       "      <td>2</td>\n",
       "      <td>0</td>\n",
       "      <td>0</td>\n",
       "      <td>65</td>\n",
       "    </tr>\n",
       "    <tr>\n",
       "      <th>754</th>\n",
       "      <td>1</td>\n",
       "      <td>4</td>\n",
       "      <td>1</td>\n",
       "      <td>0</td>\n",
       "      <td>58</td>\n",
       "    </tr>\n",
       "    <tr>\n",
       "      <th>557</th>\n",
       "      <td>1</td>\n",
       "      <td>3</td>\n",
       "      <td>1</td>\n",
       "      <td>0</td>\n",
       "      <td>61</td>\n",
       "    </tr>\n",
       "    <tr>\n",
       "      <th>...</th>\n",
       "      <td>...</td>\n",
       "      <td>...</td>\n",
       "      <td>...</td>\n",
       "      <td>...</td>\n",
       "      <td>...</td>\n",
       "    </tr>\n",
       "    <tr>\n",
       "      <th>128</th>\n",
       "      <td>1</td>\n",
       "      <td>3</td>\n",
       "      <td>0</td>\n",
       "      <td>0</td>\n",
       "      <td>82</td>\n",
       "    </tr>\n",
       "    <tr>\n",
       "      <th>781</th>\n",
       "      <td>0</td>\n",
       "      <td>3</td>\n",
       "      <td>0</td>\n",
       "      <td>0</td>\n",
       "      <td>77</td>\n",
       "    </tr>\n",
       "    <tr>\n",
       "      <th>818</th>\n",
       "      <td>0</td>\n",
       "      <td>5</td>\n",
       "      <td>1</td>\n",
       "      <td>0</td>\n",
       "      <td>60</td>\n",
       "    </tr>\n",
       "    <tr>\n",
       "      <th>362</th>\n",
       "      <td>0</td>\n",
       "      <td>2</td>\n",
       "      <td>0</td>\n",
       "      <td>0</td>\n",
       "      <td>52</td>\n",
       "    </tr>\n",
       "    <tr>\n",
       "      <th>592</th>\n",
       "      <td>1</td>\n",
       "      <td>1</td>\n",
       "      <td>0</td>\n",
       "      <td>0</td>\n",
       "      <td>68</td>\n",
       "    </tr>\n",
       "  </tbody>\n",
       "</table>\n",
       "<p>800 rows × 5 columns</p>\n",
       "</div>"
      ],
      "text/plain": [
       "     gender  parental_level  restoration  test_preparation  score_math\n",
       "924       1               5            1                 0          74\n",
       "561       0               2            0                 0          63\n",
       "273       0               2            0                 0          65\n",
       "754       1               4            1                 0          58\n",
       "557       1               3            1                 0          61\n",
       "..      ...             ...          ...               ...         ...\n",
       "128       1               3            0                 0          82\n",
       "781       0               3            0                 0          77\n",
       "818       0               5            1                 0          60\n",
       "362       0               2            0                 0          52\n",
       "592       1               1            0                 0          68\n",
       "\n",
       "[800 rows x 5 columns]"
      ]
     },
     "execution_count": 914,
     "metadata": {},
     "output_type": "execute_result"
    }
   ],
   "source": [
    "X_train\n"
   ]
  },
  {
   "cell_type": "code",
   "execution_count": 915,
   "id": "e8a7bb40",
   "metadata": {},
   "outputs": [
    {
     "data": {
      "text/plain": [
       "924    69\n",
       "561    74\n",
       "273    71\n",
       "754    53\n",
       "557    66\n",
       "       ..\n",
       "128    74\n",
       "781    84\n",
       "818    68\n",
       "362    58\n",
       "592    64\n",
       "Name: score_bac, Length: 800, dtype: int64"
      ]
     },
     "execution_count": 915,
     "metadata": {},
     "output_type": "execute_result"
    }
   ],
   "source": [
    "Y_train"
   ]
  },
  {
   "cell_type": "code",
   "execution_count": null,
   "id": "44b10fe2",
   "metadata": {},
   "outputs": [],
   "source": []
  },
  {
   "cell_type": "code",
   "execution_count": null,
   "id": "84dd5934",
   "metadata": {},
   "outputs": [],
   "source": []
  },
  {
   "cell_type": "code",
   "execution_count": 916,
   "id": "afb3debf",
   "metadata": {},
   "outputs": [
    {
     "data": {
      "text/plain": [
       "LinearRegression()"
      ]
     },
     "execution_count": 916,
     "metadata": {},
     "output_type": "execute_result"
    }
   ],
   "source": [
    "regressor = LinearRegression()\n",
    "\n",
    "regressor.fit(X_train,Y_train)\n",
    "\n",
    "# model = Lasso()\n",
    "# model.fit(X_train,Y_train)\n"
   ]
  },
  {
   "cell_type": "code",
   "execution_count": 917,
   "id": "34af1558",
   "metadata": {},
   "outputs": [],
   "source": [
    "Y_pred=regressor.predict(X_test)"
   ]
  },
  {
   "cell_type": "code",
   "execution_count": 918,
   "id": "1f4a6fc7",
   "metadata": {},
   "outputs": [
    {
     "data": {
      "text/plain": [
       "array([ 61.55815342,  53.9001663 ,  58.36878987,  46.23163314,\n",
       "        83.87543385,  65.4660283 ,  73.57204193,  66.82370302,\n",
       "        77.35234645,  68.11324273,  54.82673866,  66.10976017,\n",
       "        80.08915177,  86.55918192,  79.09897613,  51.39106826,\n",
       "        61.51564222,  71.43044298,  66.10976017,  72.52673309,\n",
       "        41.64634906,  82.29888572,  65.20464369,  96.14016093,\n",
       "        77.18653028,  59.96471789,  74.55791543,  61.64321258,\n",
       "        87.43894094,  58.49636023,  71.67467385,  55.48554829,\n",
       "        63.74683206,  71.56855937,  41.42774199,  80.48865277,\n",
       "        66.94243951,  70.39775614,  84.8020062 ,  73.3808683 ,\n",
       "        66.27557633,  75.74379641,  75.19110126,  71.82994398,\n",
       "        62.30409819,  86.55918192,  52.6426285 ,  76.59585565,\n",
       "        51.49925871,  73.19816473,  77.08041581,  62.86733938,\n",
       "        50.49192934,  70.82261461,  79.63659353,  70.56330598,\n",
       "        60.65303695,  69.46493989,  70.61636321,  85.33532146,\n",
       "        79.23709253,  62.8627709 ,  59.59265034,  72.34610549,\n",
       "        72.59241234,  92.97615484,  75.05755334,  90.41997712,\n",
       "        48.40976574, 100.99113176,  57.53611053,  94.38896277,\n",
       "        72.10187462,  68.93786853,  75.90961258,  45.00152878,\n",
       "        68.38517338,  68.11324273,  67.23375005,  70.31699913,\n",
       "        78.33795361,  48.51588022, 102.95663485,  91.02780549,\n",
       "        84.26438881,  53.20337719,  56.0782989 ,  70.61636321,\n",
       "        71.46842245,  79.49847714,  67.1230671 ,  84.34944796,\n",
       "        56.05086546,  72.69254925,  54.82673866,  88.21024316,\n",
       "        65.31283415,  61.45203895,  44.02189919,  68.08580929,\n",
       "        42.97659034,  73.9866207 ,  55.75955491,  61.29676881,\n",
       "        81.60807418,  81.70821109, 100.90607261,  76.33447104,\n",
       "        65.02401609,  66.2650303 ,  67.04257642,  76.8421625 ,\n",
       "        76.20897667,  66.05670293,  36.53399362,  70.23193998,\n",
       "        50.4388721 , 102.90357761,  85.12699409,  61.64321258,\n",
       "        79.15203337,  69.57313034,  49.01551813,  78.87126886,\n",
       "        82.85963442,  36.4594805 ,  52.77617642,  23.27311335,\n",
       "        65.4660283 ,  73.35941242,  65.47657433,  59.59265034,\n",
       "        85.01033357,  83.35927233,  75.35484145,  60.66358298,\n",
       "        67.71374173,  52.67006194,  72.6074901 ,  77.2416635 ,\n",
       "        81.87402726,  79.58951385,  80.00409261,  64.70500577,\n",
       "        81.95451794,  31.3411475 ,  58.14991646,  51.4441255 ,\n",
       "        60.12596559,  63.15615743,  51.87105994,  53.39455082,\n",
       "        66.45620393,  61.64321258,  27.10828475,  70.37005637,\n",
       "        70.1258255 ,  42.04585006,  68.16032241,  69.84506099,\n",
       "        72.52880906,  62.92039661,  52.54249158,  69.22668658,\n",
       "        54.97993281,  78.91834854,  64.5988913 ,  77.90047313,\n",
       "        69.97263134,  70.26394189,  76.28141381,  62.4207587 ,\n",
       "        72.29304825,  61.46258498,  70.66942045,  65.15158645,\n",
       "        28.68483287,  56.40328678,  71.09454525,  63.74683206,\n",
       "        76.98027889,  58.97454226,  73.67217885,  54.42723766,\n",
       "        61.0251045 ,  85.65406544,  79.23709253,  71.67674982,\n",
       "        76.26203391,  74.52423809,  42.57916532,  55.2792969 ,\n",
       "        69.51799713,  55.0986693 ,  74.82360217,  68.61288065,\n",
       "        50.38581486,  52.05793143,  64.91333314,  87.91893262])"
      ]
     },
     "execution_count": 918,
     "metadata": {},
     "output_type": "execute_result"
    }
   ],
   "source": [
    "Y_pred"
   ]
  },
  {
   "cell_type": "code",
   "execution_count": 919,
   "id": "b15127fb",
   "metadata": {},
   "outputs": [
    {
     "data": {
      "text/plain": [
       "684    68\n",
       "769    57\n",
       "838    53\n",
       "628    46\n",
       "667    87\n",
       "       ..\n",
       "529    70\n",
       "301    52\n",
       "365    60\n",
       "898    63\n",
       "779    82\n",
       "Name: score_bac, Length: 200, dtype: int64"
      ]
     },
     "execution_count": 919,
     "metadata": {},
     "output_type": "execute_result"
    }
   ],
   "source": [
    "Y_test"
   ]
  },
  {
   "cell_type": "code",
   "execution_count": 920,
   "id": "afe5cedd",
   "metadata": {},
   "outputs": [
    {
     "data": {
      "text/plain": [
       "array([ 68,  57,  53,  46,  87,  73,  69,  66,  79,  75,  49,  67,  74,\n",
       "        87,  73,  43,  61,  66,  66,  74,  42,  77,  68,  95,  76,  73,\n",
       "        68,  65,  85,  47,  70,  64,  63,  76,  36,  80,  70,  73,  79,\n",
       "        69,  69,  80,  70,  74,  62,  94,  53,  77,  53,  77,  82,  62,\n",
       "        45,  81,  71,  78,  53,  70,  72,  90,  85,  66,  52,  75,  78,\n",
       "       100,  79,  87,  44, 100,  54, 100,  65,  70,  77,  36,  65,  67,\n",
       "        66,  70,  78,  42,  99,  86,  76,  40,  43,  69,  73,  74,  74,\n",
       "        82,  50,  68,  58,  85,  66,  57,  41,  64,  47,  80,  60,  65,\n",
       "        71,  76,  99,  78,  57,  62,  62,  79,  79,  69,  43,  72,  54,\n",
       "       100,  86,  60,  79,  68,  57,  81,  86,  47,  45,  23,  62,  75,\n",
       "        67,  60,  85,  80,  72,  60,  74,  54,  73,  82,  87,  84,  77,\n",
       "        58,  85,  28,  58,  54,  66,  64,  52,  52,  72,  51,  22,  61,\n",
       "        68,  42,  64,  65,  69,  61,  52,  70,  57,  81,  72,  81,  60,\n",
       "        81,  78,  61,  76,  65,  67,  59,  15,  55,  74,  66,  75,  54,\n",
       "        78,  46,  58,  93,  79,  69,  82,  72,  50,  58,  70,  55,  70,\n",
       "        70,  52,  60,  63,  82], dtype=int64)"
      ]
     },
     "execution_count": 920,
     "metadata": {},
     "output_type": "execute_result"
    }
   ],
   "source": [
    "Y_test.to_numpy()"
   ]
  },
  {
   "cell_type": "code",
   "execution_count": null,
   "id": "b2f32076",
   "metadata": {},
   "outputs": [],
   "source": []
  },
  {
   "cell_type": "code",
   "execution_count": null,
   "id": "6cda264d",
   "metadata": {},
   "outputs": [],
   "source": []
  },
  {
   "cell_type": "code",
   "execution_count": 921,
   "id": "eda46557",
   "metadata": {},
   "outputs": [
    {
     "data": {
      "text/plain": [
       "0.8898666178682567"
      ]
     },
     "execution_count": 921,
     "metadata": {},
     "output_type": "execute_result"
    }
   ],
   "source": [
    "regressor.score(X_test,Y_test)"
   ]
  },
  {
   "cell_type": "code",
   "execution_count": 923,
   "id": "8026b19b",
   "metadata": {},
   "outputs": [
    {
     "data": {
      "text/plain": [
       "array([74.76416682])"
      ]
     },
     "execution_count": 923,
     "metadata": {},
     "output_type": "execute_result"
    }
   ],
   "source": [
    "regressor.predict([[0,1,1,1,60]])"
   ]
  },
  {
   "cell_type": "code",
   "execution_count": null,
   "id": "a9ea1b1f",
   "metadata": {},
   "outputs": [],
   "source": []
  },
  {
   "cell_type": "code",
   "execution_count": null,
   "id": "9e24c307",
   "metadata": {},
   "outputs": [],
   "source": []
  }
 ],
 "metadata": {
  "kernelspec": {
   "display_name": "Python 3 (ipykernel)",
   "language": "python",
   "name": "python3"
  },
  "language_info": {
   "codemirror_mode": {
    "name": "ipython",
    "version": 3
   },
   "file_extension": ".py",
   "mimetype": "text/x-python",
   "name": "python",
   "nbconvert_exporter": "python",
   "pygments_lexer": "ipython3",
   "version": "3.9.7"
  }
 },
 "nbformat": 4,
 "nbformat_minor": 5
}
